{
  "nbformat": 4,
  "nbformat_minor": 0,
  "metadata": {
    "kernelspec": {
      "display_name": "Python 3",
      "language": "python",
      "name": "python3"
    },
    "language_info": {
      "codemirror_mode": {
        "name": "ipython",
        "version": 3
      },
      "file_extension": ".py",
      "mimetype": "text/x-python",
      "name": "python",
      "nbconvert_exporter": "python",
      "pygments_lexer": "ipython3",
      "version": "3.7.6"
    },
    "papermill": {
      "duration": 146.651939,
      "end_time": "2020-08-12T12:41:24.296019",
      "environment_variables": {},
      "exception": null,
      "input_path": "__notebook__.ipynb",
      "output_path": "__notebook__.ipynb",
      "parameters": {},
      "start_time": "2020-08-12T12:38:57.644080",
      "version": "2.1.0"
    },
    "colab": {
      "name": "Sunburst_Candlesticks.ipynb",
      "provenance": [],
      "collapsed_sections": [],
      "include_colab_link": true
    }
  },
  "cells": [
    {
      "cell_type": "markdown",
      "metadata": {
        "id": "view-in-github",
        "colab_type": "text"
      },
      "source": [
        "<a href=\"https://colab.research.google.com/github/Thaleslsilva/DataScience/blob/master/Sunburst_Candlesticks.ipynb\" target=\"_parent\"><img src=\"https://colab.research.google.com/assets/colab-badge.svg\" alt=\"Open In Colab\"/></a>"
      ]
    },
    {
      "cell_type": "markdown",
      "metadata": {
        "id": "GJ83WAt0mQv-"
      },
      "source": [
        "# Sunburst Diagram e Candlesticks com Plotly"
      ]
    },
    {
      "cell_type": "markdown",
      "metadata": {
        "papermill": {
          "duration": 0.038414,
          "end_time": "2020-08-12T12:39:03.534364",
          "exception": false,
          "start_time": "2020-08-12T12:39:03.495950",
          "status": "completed"
        },
        "tags": [],
        "id": "IwFKEIzamQwA"
      },
      "source": [
        "### Pacotes Python Para Manipulação de Dados e Visualização"
      ]
    },
    {
      "cell_type": "code",
      "metadata": {
        "id": "7KmmAkzamQwC"
      },
      "source": [
        "# Para atualizar um pacote, execute o comando abaixo no terminal ou prompt de comando:\n",
        "# pip install -U nome_pacote\n",
        "\n",
        "# Para instalar a versão exata de um pacote, execute o comando abaixo no terminal ou prompt de comando:\n",
        "# !pip install nome_pacote==versão_desejada\n",
        "\n",
        "# Depois de instalar ou atualizar o pacote, reinicie o jupyter notebook.\n",
        "\n",
        "# Instala o pacote watermark. \n",
        "# Esse pacote é usado para gravar as versões de outros pacotes usados neste jupyter notebook.\n",
        "!pip install -q -U watermark\n",
        "!pip install plotly==4.14.3"
      ],
      "execution_count": null,
      "outputs": []
    },
    {
      "cell_type": "code",
      "metadata": {
        "_cell_guid": "b1076dfc-b9ad-4769-8c92-a6c4dae69d19",
        "_kg_hide-input": true,
        "_uuid": "8f2839f25d086af736a60e9eeb907d3b93b6e0e5",
        "execution": {
          "iopub.execute_input": "2020-08-12T12:39:03.618578Z",
          "iopub.status.busy": "2020-08-12T12:39:03.617758Z",
          "iopub.status.idle": "2020-08-12T12:39:10.086345Z",
          "shell.execute_reply": "2020-08-12T12:39:10.085626Z"
        },
        "papermill": {
          "duration": 6.514564,
          "end_time": "2020-08-12T12:39:10.086503",
          "exception": false,
          "start_time": "2020-08-12T12:39:03.571939",
          "status": "completed"
        },
        "tags": [],
        "id": "FQQjI2LpmQwE"
      },
      "source": [
        "# Manipulação de Dados\n",
        "import numpy as np\n",
        "import pandas as pd\n",
        "import datetime\n",
        "from datetime import date, timedelta\n",
        "\n",
        "# Plotly\n",
        "import plotly.express as px\n",
        "import plotly.graph_objects as go\n",
        "import plotly.figure_factory as ff\n",
        "from plotly.colors import n_colors\n",
        "from plotly.subplots import make_subplots"
      ],
      "execution_count": null,
      "outputs": []
    },
    {
      "cell_type": "code",
      "metadata": {
        "id": "TMJeSYPOmQwF"
      },
      "source": [
        "# Versões dos pacotes usados neste jupyter notebook\n",
        "%reload_ext watermark\n",
        "%watermark -a \"Thales de Lima Silva\" --iversions"
      ],
      "execution_count": null,
      "outputs": []
    },
    {
      "cell_type": "markdown",
      "metadata": {
        "papermill": {
          "duration": 0.037237,
          "end_time": "2020-08-12T12:39:10.161753",
          "exception": false,
          "start_time": "2020-08-12T12:39:10.124516",
          "status": "completed"
        },
        "tags": [],
        "id": "Rz4Aa6V2mQwI"
      },
      "source": [
        "## Carregando os Dados"
      ]
    },
    {
      "cell_type": "code",
      "metadata": {
        "id": "16B0eMRxmQwI"
      },
      "source": [
        "# Carrega os dados\n",
        "titanic = pd.read_csv('https://raw.githubusercontent.com/Thaleslsilva/DataScience/master/VisualizacaoDados/Metodos_Visualizacao/dados/titanic-train.csv')\n",
        "#titanic"
      ],
      "execution_count": null,
      "outputs": []
    },
    {
      "cell_type": "code",
      "metadata": {
        "_kg_hide-input": true,
        "_kg_hide-output": true,
        "execution": {
          "iopub.execute_input": "2020-08-12T12:39:10.252763Z",
          "iopub.status.busy": "2020-08-12T12:39:10.251955Z",
          "iopub.status.idle": "2020-08-12T12:39:43.869018Z",
          "shell.execute_reply": "2020-08-12T12:39:43.868171Z"
        },
        "papermill": {
          "duration": 33.669854,
          "end_time": "2020-08-12T12:39:43.869155",
          "exception": false,
          "start_time": "2020-08-12T12:39:10.199301",
          "status": "completed"
        },
        "tags": [],
        "id": "iVRl6oE0mQwK"
      },
      "source": [
        "# Carrega os dados\n",
        "bajaj = pd.read_csv('https://raw.githubusercontent.com/Thaleslsilva/DataScience/master/VisualizacaoDados/Metodos_Visualizacao/dados/nifty50-stock-market-data-BAJAJFINSV.csv')\n",
        "#bajaj.head()"
      ],
      "execution_count": null,
      "outputs": []
    },
    {
      "cell_type": "markdown",
      "metadata": {
        "id": "rzcwJg-pmQwL"
      },
      "source": [
        "### Sunburst\n",
        "**Objetivo**: Exibir a representação quantitativa de muitas variáveis categóricas por distribuição de tamanho.\n",
        "\n",
        "Descreva a distribuição entre as categorias de idade, sexo e pessoas sobreviventes no que diz respeito à tarifa (fare) no Titanic."
      ]
    },
    {
      "cell_type": "code",
      "metadata": {
        "id": "3ViLQxPgmQwN"
      },
      "source": [
        "# Prepara os dados\n",
        "titanic = titanic.dropna()\n",
        "titanic['age_category'] = np.where((titanic['Age'] < 19), \"Abaixo de 19 Anos\",\n",
        "                                 np.where((titanic['Age'] > 18) & (titanic['Age'] <= 30), \"19-30\",\n",
        "                                    np.where((titanic['Age'] > 30) & (titanic['Age'] <= 50), \"31-50\",\n",
        "                                                np.where(titanic['Age'] > 50, \"Acima de 50 Anos\", \"NULL\"))))\n",
        "\n",
        "age = titanic['age_category'].value_counts().to_frame().reset_index().rename(columns = {'index':'age_category','age_category':'Count'})\n",
        "\n",
        "titanic['survived_or_not'] = np.where(titanic['Survived']==1,\"Survived\", np.where(titanic['Survived']==0,\"Died\",\"null\")) \n",
        "\n",
        "sun_df = titanic[['Sex','survived_or_not','Embarked','age_category','Cabin','Fare']].groupby(['Sex','survived_or_not','age_category','Embarked','Cabin']).agg('sum').reset_index()\n",
        "\n",
        "# Figura\n",
        "fig = px.sunburst(sun_df, path = ['Sex','survived_or_not','age_category'], values = 'Fare')\n",
        "\n",
        "# Layout\n",
        "fig.update_layout(title = \"Distribuição de Passageiros Por Faixa Etária, Sexo e Sobrevivência, Por Tarifa\", \n",
        "                  title_x = 0.5)\n",
        "\n",
        "# Gráfico\n",
        "fig.show()"
      ],
      "execution_count": null,
      "outputs": []
    },
    {
      "cell_type": "markdown",
      "metadata": {
        "id": "K88n79MMmQwV"
      },
      "source": [
        "### Sunburst Color\n",
        "\n",
        "Mesmo gráfico anterior com diferente organização de cores por sobrevivente/não sobrevivente."
      ]
    },
    {
      "cell_type": "code",
      "metadata": {
        "id": "hTuJOlE8mQwW"
      },
      "source": [
        "# Figura\n",
        "fig = px.sunburst(sun_df, path = ['Sex','survived_or_not','age_category'], \n",
        "                  values = 'Fare', \n",
        "                  color = 'survived_or_not',\n",
        "                  color_discrete_map = {'(?)':'black', 'Died':'red', 'Survived':'darkblue'})\n",
        "\n",
        "# Layout\n",
        "fig.update_layout(title = \"Distribuição de Passageiros Por Faixa Etária, Sexo e Sobrevivência, Por Tarifa\",\n",
        "                  title_x = 0.5)\n",
        "\n",
        "# Gráfico\n",
        "fig.show()"
      ],
      "execution_count": null,
      "outputs": []
    },
    {
      "cell_type": "markdown",
      "metadata": {
        "papermill": {
          "duration": 0.06984,
          "end_time": "2020-08-12T12:39:57.047248",
          "exception": false,
          "start_time": "2020-08-12T12:39:56.977408",
          "status": "completed"
        },
        "tags": [],
        "id": "ccwnkJLMmQwX"
      },
      "source": [
        "### Candlestick\n",
        "**Objetivo**: Mostrar séries com pontos de alta, baixa, abertura e fechamento (usado para visualizar preços de ações).\n",
        "\n",
        "Como o preço das ações da empresa Bajaj Finserv flutuou ao longo do tempo? Exiba com pontos de alta, baixa, abertura e fechamento."
      ]
    },
    {
      "cell_type": "code",
      "metadata": {
        "execution": {
          "iopub.execute_input": "2020-08-12T12:39:57.338435Z",
          "iopub.status.busy": "2020-08-12T12:39:57.337652Z",
          "iopub.status.idle": "2020-08-12T12:39:57.397661Z",
          "shell.execute_reply": "2020-08-12T12:39:57.398262Z"
        },
        "papermill": {
          "duration": 0.139227,
          "end_time": "2020-08-12T12:39:57.398450",
          "exception": false,
          "start_time": "2020-08-12T12:39:57.259223",
          "status": "completed"
        },
        "tags": [],
        "id": "5f937tOtmQwY"
      },
      "source": [
        "# Figura\n",
        "fig = go.Figure(data = [go.Candlestick(x = bajaj['Date'],\n",
        "                                       open = bajaj['Open'],\n",
        "                                       high = bajaj['High'],\n",
        "                                       low = bajaj['Low'],\n",
        "                                       close = bajaj['Close'])])\n",
        "\n",
        "# Layout\n",
        "fig.update_layout(title = \"Candlestick Series do Preço de Ações da Empresa Bajaj Finsv\")\n",
        "\n",
        "# Gráfico\n",
        "fig.show()"
      ],
      "execution_count": null,
      "outputs": []
    },
    {
      "cell_type": "markdown",
      "metadata": {
        "papermill": {
          "duration": 0.069793,
          "end_time": "2020-08-12T12:39:57.539760",
          "exception": false,
          "start_time": "2020-08-12T12:39:57.469967",
          "status": "completed"
        },
        "tags": [],
        "id": "aRrf_uf-mQwa"
      },
      "source": [
        "## Candlestick com Ponto Específico\n",
        "\n",
        "O mesmo gráfico anterior com uma linha vertical indicando uma data específica."
      ]
    },
    {
      "cell_type": "code",
      "metadata": {
        "execution": {
          "iopub.execute_input": "2020-08-12T12:39:57.855222Z",
          "iopub.status.busy": "2020-08-12T12:39:57.854144Z",
          "iopub.status.idle": "2020-08-12T12:39:57.919770Z",
          "shell.execute_reply": "2020-08-12T12:39:57.920381Z"
        },
        "papermill": {
          "duration": 0.164719,
          "end_time": "2020-08-12T12:39:57.920550",
          "exception": false,
          "start_time": "2020-08-12T12:39:57.755831",
          "status": "completed"
        },
        "tags": [],
        "id": "Bjtw2QusmQwb"
      },
      "source": [
        "# Figura\n",
        "fig = go.Figure(data = [go.Candlestick(x = bajaj['Date'],\n",
        "                                       open = bajaj['Open'],\n",
        "                                       high = bajaj['High'],\n",
        "                                       low = bajaj['Low'],\n",
        "                                       close = bajaj['Close'])])\n",
        "\n",
        "# Layout com linha específica\n",
        "fig.update_layout(title = \"Candlestick Series do Preço de Ações da Empresa Bajaj Finsv\",\n",
        "                  xaxis_rangeslider_visible = False,  \n",
        "                  shapes = [dict(x0 = '2017-01-07', \n",
        "                                 x1 = '2017-01-07', \n",
        "                                 y0 = 0, \n",
        "                                 y1 = 1, \n",
        "                                 xref = 'x', \n",
        "                                 yref = 'paper',\n",
        "                                 line_width = 2)],\n",
        "                  annotations = [dict(x = '2017-01-07', \n",
        "                                      y = 0.05, \n",
        "                                      xref = 'x', \n",
        "                                      yref = 'paper',\n",
        "                                      showarrow = False, \n",
        "                                      xanchor = 'left', \n",
        "                                      text = 'Fusão com Empresas Aquiridas')])\n",
        "\n",
        "# Gráfico\n",
        "fig.show()"
      ],
      "execution_count": null,
      "outputs": []
    },
    {
      "cell_type": "markdown",
      "metadata": {
        "id": "k9sV7cvUmQwd"
      },
      "source": [
        "# Fim"
      ]
    }
  ]
}