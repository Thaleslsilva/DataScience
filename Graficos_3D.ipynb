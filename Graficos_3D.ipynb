{
  "nbformat": 4,
  "nbformat_minor": 0,
  "metadata": {
    "kernelspec": {
      "display_name": "Python 3",
      "language": "python",
      "name": "python3"
    },
    "language_info": {
      "codemirror_mode": {
        "name": "ipython",
        "version": 3
      },
      "file_extension": ".py",
      "mimetype": "text/x-python",
      "name": "python",
      "nbconvert_exporter": "python",
      "pygments_lexer": "ipython3",
      "version": "3.7.6"
    },
    "papermill": {
      "duration": 146.651939,
      "end_time": "2020-08-12T12:41:24.296019",
      "environment_variables": {},
      "exception": null,
      "input_path": "__notebook__.ipynb",
      "output_path": "__notebook__.ipynb",
      "parameters": {},
      "start_time": "2020-08-12T12:38:57.644080",
      "version": "2.1.0"
    },
    "colab": {
      "name": "Graficos_3D.ipynb",
      "provenance": [],
      "include_colab_link": true
    }
  },
  "cells": [
    {
      "cell_type": "markdown",
      "metadata": {
        "id": "view-in-github",
        "colab_type": "text"
      },
      "source": [
        "<a href=\"https://colab.research.google.com/github/Thaleslsilva/DataScience/blob/master/Graficos_3D.ipynb\" target=\"_parent\"><img src=\"https://colab.research.google.com/assets/colab-badge.svg\" alt=\"Open In Colab\"/></a>"
      ]
    },
    {
      "cell_type": "markdown",
      "metadata": {
        "id": "PiIB2eNfHvQe"
      },
      "source": [
        "# Gráficos 3D com Plotly"
      ]
    },
    {
      "cell_type": "markdown",
      "metadata": {
        "id": "lRI_e4YEHvQi"
      },
      "source": [
        "### Pacotes Python Para Manipulação de Dados e Visualização"
      ]
    },
    {
      "cell_type": "code",
      "metadata": {
        "id": "g0kPLug5HvQj"
      },
      "source": [
        "# Para atualizar um pacote, execute o comando abaixo no terminal ou prompt de comando:\n",
        "# pip install -U nome_pacote\n",
        "\n",
        "# Para instalar a versão exata de um pacote, execute o comando abaixo no terminal ou prompt de comando:\n",
        "# !pip install nome_pacote==versão_desejada\n",
        "\n",
        "# Depois de instalar ou atualizar o pacote, reinicie o jupyter notebook.\n",
        "\n",
        "# Instala o pacote watermark. \n",
        "# Esse pacote é usado para gravar as versões de outros pacotes usados neste jupyter notebook.\n",
        "!pip install -q -U watermark"
      ],
      "execution_count": null,
      "outputs": []
    },
    {
      "cell_type": "code",
      "metadata": {
        "_cell_guid": "b1076dfc-b9ad-4769-8c92-a6c4dae69d19",
        "_kg_hide-input": true,
        "_uuid": "8f2839f25d086af736a60e9eeb907d3b93b6e0e5",
        "execution": {
          "iopub.execute_input": "2020-08-12T12:39:03.618578Z",
          "iopub.status.busy": "2020-08-12T12:39:03.617758Z",
          "iopub.status.idle": "2020-08-12T12:39:10.086345Z",
          "shell.execute_reply": "2020-08-12T12:39:10.085626Z"
        },
        "papermill": {
          "duration": 6.514564,
          "end_time": "2020-08-12T12:39:10.086503",
          "exception": false,
          "start_time": "2020-08-12T12:39:03.571939",
          "status": "completed"
        },
        "tags": [],
        "id": "LswapLoDHvQn"
      },
      "source": [
        "# Manipulação de Dados\n",
        "import numpy as np\n",
        "import pandas as pd\n",
        "import datetime\n",
        "from datetime import date, timedelta\n",
        "\n",
        "# Plotly\n",
        "import plotly.express as px\n",
        "import plotly.graph_objects as go\n",
        "import plotly.figure_factory as ff\n",
        "from plotly.colors import n_colors\n",
        "from plotly.subplots import make_subplots"
      ],
      "execution_count": null,
      "outputs": []
    },
    {
      "cell_type": "markdown",
      "metadata": {
        "papermill": {
          "duration": 0.037237,
          "end_time": "2020-08-12T12:39:10.161753",
          "exception": false,
          "start_time": "2020-08-12T12:39:10.124516",
          "status": "completed"
        },
        "tags": [],
        "id": "dYAagvjQHvQp"
      },
      "source": [
        "## Carregando os Dados"
      ]
    },
    {
      "cell_type": "code",
      "metadata": {
        "_kg_hide-input": true,
        "_kg_hide-output": true,
        "execution": {
          "iopub.execute_input": "2020-08-12T12:39:10.252763Z",
          "iopub.status.busy": "2020-08-12T12:39:10.251955Z",
          "iopub.status.idle": "2020-08-12T12:39:43.869018Z",
          "shell.execute_reply": "2020-08-12T12:39:43.868171Z"
        },
        "papermill": {
          "duration": 33.669854,
          "end_time": "2020-08-12T12:39:43.869155",
          "exception": false,
          "start_time": "2020-08-12T12:39:10.199301",
          "status": "completed"
        },
        "tags": [],
        "id": "Dh-7yYHzHvQv"
      },
      "source": [
        "# Carrega os dados\n",
        "world = pd.read_csv('https://raw.githubusercontent.com/Thaleslsilva/DataScience/master/VisualizacaoDados/Metodos_Visualizacao/dados/world-university-rankings-cwurData.csv')\n",
        "#world.head()"
      ],
      "execution_count": null,
      "outputs": []
    },
    {
      "cell_type": "code",
      "metadata": {
        "id": "NjJXUVlgHvQ4"
      },
      "source": [
        "# Carrega os dados\n",
        "campus = pd.read_csv('https://raw.githubusercontent.com/Thaleslsilva/DataScience/master/VisualizacaoDados/Metodos_Visualizacao/dados/factors-affecting-campus-placement-Placement_Data_Full_Class.csv')\n",
        "#campus.head()"
      ],
      "execution_count": null,
      "outputs": []
    },
    {
      "cell_type": "markdown",
      "metadata": {
        "papermill": {
          "duration": 0.568373,
          "end_time": "2020-08-12T12:40:10.060884",
          "exception": false,
          "start_time": "2020-08-12T12:40:09.492511",
          "status": "completed"
        },
        "tags": [],
        "id": "uGzbKIasHvQ6"
      },
      "source": [
        "### 3D Scatter\n",
        "**Objetivo**: Exibir relação entre 3 variáveis\n",
        "\n",
        "Como ssc%, hsc% e degree% estão relacionados entre si para alunos empregados e não empregados?"
      ]
    },
    {
      "cell_type": "code",
      "metadata": {
        "execution": {
          "iopub.execute_input": "2020-08-12T12:40:10.413982Z",
          "iopub.status.busy": "2020-08-12T12:40:10.413156Z",
          "iopub.status.idle": "2020-08-12T12:40:10.530752Z",
          "shell.execute_reply": "2020-08-12T12:40:10.530007Z"
        },
        "papermill": {
          "duration": 0.220046,
          "end_time": "2020-08-12T12:40:10.530885",
          "exception": false,
          "start_time": "2020-08-12T12:40:10.310839",
          "status": "completed"
        },
        "tags": [],
        "id": "1IkXbitmHvQ-"
      },
      "source": [
        "# Figura\n",
        "fig = px.scatter_3d(campus, x = 'ssc_p', y = 'hsc_p', z = 'degree_p', color = 'status')\n",
        "\n",
        "# Layout\n",
        "fig.update_layout(scene = dict(xaxis_title = 'SSC %',\n",
        "                               yaxis_title = 'HSC %',\n",
        "                               zaxis_title = 'Degree %'),\n",
        "                  title = \"Percentual de Candidatos Empregados e Não Empregados\")\n",
        "\n",
        "# Gráfico\n",
        "fig.show()"
      ],
      "execution_count": null,
      "outputs": []
    },
    {
      "cell_type": "markdown",
      "metadata": {
        "papermill": {
          "duration": 0.080422,
          "end_time": "2020-08-12T12:40:10.695033",
          "exception": false,
          "start_time": "2020-08-12T12:40:10.614611",
          "status": "completed"
        },
        "tags": [],
        "id": "dLKobQGCHvRE"
      },
      "source": [
        "### 3D Scatter Colorido\n",
        "**Objetivo**: Exibir relação entre 3 variáveis com forma e cor diferentes.\n",
        "\n",
        "Mesmo gráfico anterior com shapes e cores diferentes para as variáveis."
      ]
    },
    {
      "cell_type": "code",
      "metadata": {
        "execution": {
          "iopub.execute_input": "2020-08-12T12:40:11.050630Z",
          "iopub.status.busy": "2020-08-12T12:40:11.043627Z",
          "iopub.status.idle": "2020-08-12T12:40:11.129535Z",
          "shell.execute_reply": "2020-08-12T12:40:11.130149Z"
        },
        "papermill": {
          "duration": 0.184412,
          "end_time": "2020-08-12T12:40:11.130346",
          "exception": false,
          "start_time": "2020-08-12T12:40:10.945934",
          "status": "completed"
        },
        "tags": [],
        "id": "TP7rly2qHvRG"
      },
      "source": [
        "# Figura\n",
        "fig = px.scatter_3d(campus, \n",
        "                    x = 'ssc_p', \n",
        "                    y = 'hsc_p', \n",
        "                    z = 'degree_p',\n",
        "                    color = 'etest_p', \n",
        "                    size = 'etest_p', \n",
        "                    size_max = 18,\n",
        "                    symbol = 'status', \n",
        "                    opacity = 0.7)\n",
        "\n",
        "# Layout\n",
        "fig.update_layout(margin = dict(l = 0, r = 0, b = 0, t = 0))\n",
        "\n",
        "# Gráfico\n",
        "fig.show()"
      ],
      "execution_count": null,
      "outputs": []
    },
    {
      "cell_type": "markdown",
      "metadata": {
        "papermill": {
          "duration": 0.081175,
          "end_time": "2020-08-12T12:40:11.295000",
          "exception": false,
          "start_time": "2020-08-12T12:40:11.213825",
          "status": "completed"
        },
        "tags": [],
        "id": "aSNaHzZIHvRK"
      },
      "source": [
        "### 3D Surface\n",
        "**Objetivo**:  Exibir relação de superfície entre diversos valores.\n",
        "\n",
        "Como as pontuações estão relacionadas entre as universidades dos 20 principais países? "
      ]
    },
    {
      "cell_type": "code",
      "metadata": {
        "_kg_hide-input": true,
        "execution": {
          "iopub.execute_input": "2020-08-12T12:40:11.671740Z",
          "iopub.status.busy": "2020-08-12T12:40:11.670509Z",
          "iopub.status.idle": "2020-08-12T12:40:11.674351Z",
          "shell.execute_reply": "2020-08-12T12:40:11.673560Z"
        },
        "papermill": {
          "duration": 0.126743,
          "end_time": "2020-08-12T12:40:11.674496",
          "exception": false,
          "start_time": "2020-08-12T12:40:11.547753",
          "status": "completed"
        },
        "tags": [],
        "id": "UtobtlvbHvRN"
      },
      "source": [
        "# Prepara os dados\n",
        "top_countries = world['country'].value_counts()[:20].reset_index()['index']\n",
        "\n",
        "score = []\n",
        "\n",
        "for i in top_countries:\n",
        "    score.append(list(world[world['country']==i]['score']))\n",
        "\n",
        "z_data = np.array(score)\n",
        "\n",
        "# Figura\n",
        "fig = go.Figure(data = [go.Surface(z = z_data)])\n",
        "\n",
        "# Layout\n",
        "fig.update_layout(title = 'Pontuação das Universidades dos 20 Principais Países', \n",
        "                  autosize = False,\n",
        "                  width = 500, \n",
        "                  height = 500,\n",
        "                  margin = dict(l = 65, r = 50, b = 65, t = 90))\n",
        "\n",
        "# Gráfico\n",
        "fig.show()"
      ],
      "execution_count": null,
      "outputs": []
    },
    {
      "cell_type": "markdown",
      "metadata": {
        "papermill": {
          "duration": 0.081006,
          "end_time": "2020-08-12T12:40:12.791981",
          "exception": false,
          "start_time": "2020-08-12T12:40:12.710975",
          "status": "completed"
        },
        "tags": [],
        "id": "oMuy-kZ1HvRO"
      },
      "source": [
        "### 3D Line\n",
        "**Objetivo**: Exibir relação entre 3 variáveis em linhas.\n",
        "\n",
        "Como se relacionam a população, o PIB e o ano nos países europeus?"
      ]
    },
    {
      "cell_type": "code",
      "metadata": {
        "_kg_hide-input": true,
        "execution": {
          "iopub.execute_input": "2020-08-12T12:40:13.137415Z",
          "iopub.status.busy": "2020-08-12T12:40:13.136541Z",
          "iopub.status.idle": "2020-08-12T12:40:13.155551Z",
          "shell.execute_reply": "2020-08-12T12:40:13.156419Z"
        },
        "papermill": {
          "duration": 0.109833,
          "end_time": "2020-08-12T12:40:13.156668",
          "exception": false,
          "start_time": "2020-08-12T12:40:13.046835",
          "status": "completed"
        },
        "tags": [],
        "id": "7WSJDaISHvRQ"
      },
      "source": [
        "# Prepara os dados\n",
        "df = px.data.gapminder().query(\"continent=='Europe'\")\n",
        "\n",
        "# Figura\n",
        "fig = px.line_3d(df, x = \"gdpPercap\", y = \"pop\", z = \"year\", color = 'country')\n",
        "\n",
        "# Layout\n",
        "fig.update_layout(title_text = 'População, PIB e Ano na Europa', title_x = 0.5)\n",
        "\n",
        "# Gráfico\n",
        "fig.show()"
      ],
      "execution_count": null,
      "outputs": []
    },
    {
      "cell_type": "markdown",
      "metadata": {
        "id": "Mav2pPXnHvRS"
      },
      "source": [
        "# Fim"
      ]
    }
  ]
}