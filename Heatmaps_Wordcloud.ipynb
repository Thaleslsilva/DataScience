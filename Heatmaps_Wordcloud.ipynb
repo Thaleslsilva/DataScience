{
  "nbformat": 4,
  "nbformat_minor": 0,
  "metadata": {
    "kernelspec": {
      "display_name": "Python 3",
      "language": "python",
      "name": "python3"
    },
    "language_info": {
      "codemirror_mode": {
        "name": "ipython",
        "version": 3
      },
      "file_extension": ".py",
      "mimetype": "text/x-python",
      "name": "python",
      "nbconvert_exporter": "python",
      "pygments_lexer": "ipython3",
      "version": "3.7.6"
    },
    "papermill": {
      "duration": 53.693134,
      "end_time": "2020-08-15T05:43:15.958021",
      "environment_variables": {},
      "exception": null,
      "input_path": "__notebook__.ipynb",
      "output_path": "__notebook__.ipynb",
      "parameters": {},
      "start_time": "2020-08-15T05:42:22.264887",
      "version": "2.1.0"
    },
    "colab": {
      "name": "Heatmaps_Wordcloud.ipynb",
      "provenance": [],
      "collapsed_sections": [],
      "include_colab_link": true
    }
  },
  "cells": [
    {
      "cell_type": "markdown",
      "metadata": {
        "id": "view-in-github",
        "colab_type": "text"
      },
      "source": [
        "<a href=\"https://colab.research.google.com/github/Thaleslsilva/DataScience/blob/master/Heatmaps_Wordcloud.ipynb\" target=\"_parent\"><img src=\"https://colab.research.google.com/assets/colab-badge.svg\" alt=\"Open In Colab\"/></a>"
      ]
    },
    {
      "cell_type": "markdown",
      "metadata": {
        "id": "YGyJ3xHkbpsC"
      },
      "source": [
        "# Exemplos de Heatmaps e Wordcloud"
      ]
    },
    {
      "cell_type": "markdown",
      "metadata": {
        "papermill": {
          "duration": 0.028236,
          "end_time": "2020-08-15T05:42:33.272312",
          "exception": false,
          "start_time": "2020-08-15T05:42:33.244076",
          "status": "completed"
        },
        "tags": [],
        "id": "ES6Yvaw3bpsC"
      },
      "source": [
        "### Pacotes Python Para Manipulação de Dados e Visualização"
      ]
    },
    {
      "cell_type": "code",
      "metadata": {
        "id": "1GjSiy1WbpsH"
      },
      "source": [
        "# Para atualizar um pacote, execute o comando abaixo no terminal ou prompt de comando:\n",
        "# pip install -U nome_pacote\n",
        "\n",
        "# Para instalar a versão exata de um pacote, execute o comando abaixo no terminal ou prompt de comando:\n",
        "# !pip install nome_pacote==versão_desejada\n",
        "\n",
        "# Depois de instalar ou atualizar o pacote, reinicie o jupyter notebook.\n",
        "\n",
        "# Instala o pacote watermark. \n",
        "# Esse pacote é usado para gravar as versões de outros pacotes usados neste jupyter notebook.\n",
        "!pip install -q -U watermark\n",
        "!pip install plotly==4.14.3"
      ],
      "execution_count": null,
      "outputs": []
    },
    {
      "cell_type": "code",
      "metadata": {
        "id": "p7rIQX1JbpsJ"
      },
      "source": [
        "# Pacote wordcloud\n",
        "!pip install -q wordcloud"
      ],
      "execution_count": null,
      "outputs": []
    },
    {
      "cell_type": "code",
      "metadata": {
        "execution": {
          "iopub.execute_input": "2020-08-15T05:42:33.335573Z",
          "iopub.status.busy": "2020-08-15T05:42:33.334762Z",
          "iopub.status.idle": "2020-08-15T05:42:35.988244Z",
          "shell.execute_reply": "2020-08-15T05:42:35.987118Z"
        },
        "papermill": {
          "duration": 2.687594,
          "end_time": "2020-08-15T05:42:35.988384",
          "exception": false,
          "start_time": "2020-08-15T05:42:33.300790",
          "status": "completed"
        },
        "tags": [],
        "id": "2XJ8jl_wbpsK"
      },
      "source": [
        "# Manipulação de Dados\n",
        "import numpy as np\n",
        "import pandas as pd\n",
        "import datetime\n",
        "from datetime import date, timedelta\n",
        "\n",
        "# Plotly\n",
        "import plotly.express as px\n",
        "import plotly.graph_objects as go\n",
        "import plotly.figure_factory as ff\n",
        "from plotly.colors import n_colors\n",
        "from plotly.subplots import make_subplots\n",
        "\n",
        "# Wordcloud\n",
        "import wordcloud\n",
        "from wordcloud import WordCloud\n",
        "import matplotlib.pyplot as plt"
      ],
      "execution_count": null,
      "outputs": []
    },
    {
      "cell_type": "code",
      "metadata": {
        "id": "bQ8euKghbpsL"
      },
      "source": [
        "# Versões dos pacotes usados neste jupyter notebook\n",
        "%reload_ext watermark\n",
        "%watermark -a \"Thales de Lima Silva\" --iversions"
      ],
      "execution_count": null,
      "outputs": []
    },
    {
      "cell_type": "markdown",
      "metadata": {
        "papermill": {
          "duration": 0.028051,
          "end_time": "2020-08-15T05:42:36.045004",
          "exception": false,
          "start_time": "2020-08-15T05:42:36.016953",
          "status": "completed"
        },
        "tags": [],
        "id": "usOwNqilbpsN"
      },
      "source": [
        "## Carregando os Dados"
      ]
    },
    {
      "cell_type": "code",
      "metadata": {
        "_kg_hide-input": true,
        "execution": {
          "iopub.execute_input": "2020-08-15T05:42:36.114224Z",
          "iopub.status.busy": "2020-08-15T05:42:36.113535Z",
          "iopub.status.idle": "2020-08-15T05:42:51.918074Z",
          "shell.execute_reply": "2020-08-15T05:42:51.917351Z"
        },
        "papermill": {
          "duration": 15.844891,
          "end_time": "2020-08-15T05:42:51.918192",
          "exception": false,
          "start_time": "2020-08-15T05:42:36.073301",
          "status": "completed"
        },
        "tags": [],
        "id": "9siXdUotbpsO"
      },
      "source": [
        "# Carrega os dados\n",
        "titanic = pd.read_csv('https://raw.githubusercontent.com/Thaleslsilva/DataScience/master/VisualizacaoDados/Metodos_Visualizacao/dados/titanic-train.csv')\n",
        "#titanic"
      ],
      "execution_count": null,
      "outputs": []
    },
    {
      "cell_type": "code",
      "metadata": {
        "id": "DkNly5acbpsQ"
      },
      "source": [
        "# Carrega os dados\n",
        "covid = pd.read_csv('https://raw.githubusercontent.com/Thaleslsilva/DataScience/master/VisualizacaoDados/Metodos_Visualizacao/dados/novel-corona-virus-2019-dataset-covid_19_data.csv')\n",
        "#covid"
      ],
      "execution_count": null,
      "outputs": []
    },
    {
      "cell_type": "code",
      "metadata": {
        "id": "G2-jSME1bpsR"
      },
      "source": [
        "# Carrega os dados\n",
        "world = pd.read_csv('https://raw.githubusercontent.com/Thaleslsilva/DataScience/master/VisualizacaoDados/Metodos_Visualizacao/dados/world-university-rankings-cwurData.csv')\n",
        "#world"
      ],
      "execution_count": null,
      "outputs": []
    },
    {
      "cell_type": "markdown",
      "metadata": {
        "papermill": {
          "duration": 0.032744,
          "end_time": "2020-08-15T05:42:55.535612",
          "exception": false,
          "start_time": "2020-08-15T05:42:55.502868",
          "status": "completed"
        },
        "tags": [],
        "id": "hAdP4HqpbpsS"
      },
      "source": [
        "### Heatmap\n",
        "**Objetivo** : Exibir mapa de calor de variáveis quantitativas com uma variável numérica densa.\n",
        "\n",
        "Como variam os preços dos bilhetes para todos os passageiros de diferentes sexos e portos de embarque no Titanic?"
      ]
    },
    {
      "cell_type": "code",
      "metadata": {
        "id": "v-IRgrdmbpsT"
      },
      "source": [
        "# Figura\n",
        "fig = go.Figure(data = go.Heatmap(z = titanic['Fare'],\n",
        "                                  x = titanic['Sex'],\n",
        "                                  y = titanic['Embarked'],\n",
        "                                  hoverongaps = False))\n",
        "\n",
        "# Layout\n",
        "fig.update_layout(title = 'Heatmap Preço do Ticket x Gênero de Passageiros do Titanic Por Porto de Embarque',\n",
        "                  xaxis_title = \"Genêro\",\n",
        "                  yaxis_title = \"Porto de Embarque\")\n",
        "\n",
        "# Gráfico\n",
        "fig.show()"
      ],
      "execution_count": null,
      "outputs": []
    },
    {
      "cell_type": "markdown",
      "metadata": {
        "id": "p8zH0OVhbpsZ"
      },
      "source": [
        "### Heatmap Date Axis\n",
        "**Objetivo** : Exibir mapa de calor de várias séries temporais. \n",
        "\n",
        "Quantas mortes suspeitas de Covid ocorreram no Brasil, EUA e Canada no mês anterior?"
      ]
    },
    {
      "cell_type": "code",
      "metadata": {
        "id": "cfFJx72ubpsa"
      },
      "source": [
        "# Prepara os dados\n",
        "covid['ObservationDate'] = pd.to_datetime(covid['ObservationDate'])\n",
        "\n",
        "days_before = (date.today() - timedelta(days = 360)).isoformat()\n",
        "\n",
        "last_month_df = covid[(covid['ObservationDate'] > days_before) & ((covid['Country/Region']=='US') | (covid['Country/Region']=='Brazil') | (covid['Country/Region']=='Canada'))]\n",
        "\n",
        "country = last_month_df['Country/Region'].unique()\n",
        "\n",
        "dates = pd.to_datetime(last_month_df['ObservationDate'].unique())\n",
        "\n",
        "num_deaths=[]\n",
        "\n",
        "for i in country:\n",
        "    num_deaths.append(last_month_df[last_month_df['Country/Region']==i][['ObservationDate','Deaths']].groupby('ObservationDate').sum().reset_index()['Deaths'])\n"
      ],
      "execution_count": null,
      "outputs": []
    },
    {
      "cell_type": "code",
      "metadata": {
        "id": "UoxuTEu6bpsb"
      },
      "source": [
        "# Figura\n",
        "fig = go.Figure(data = go.Heatmap(z = num_deaths,\n",
        "                                  x = dates,\n",
        "                                  y = country,\n",
        "                                  colorscale = 'Viridis'))\n",
        "\n",
        "# Layout\n",
        "fig.update_layout(title = 'Mortes Por Suspeita de Covid nos Últimos 30 Dias', xaxis_nticks = 30)\n",
        "\n",
        "# Gráfico\n",
        "fig.show()"
      ],
      "execution_count": null,
      "outputs": []
    },
    {
      "cell_type": "markdown",
      "metadata": {
        "id": "EGZpPa-bbpsc"
      },
      "source": [
        "### Imshow\n",
        "**Objetivo** : Exibir mapa de calor de variáveis quantitativas com uma variável numérica como densa (semelhante ao heatmap).\n",
        "\n",
        "Qual a variação média dos preços dos bilhetes para passageiros de diferentes sexos e seu porto de embarque?"
      ]
    },
    {
      "cell_type": "code",
      "metadata": {
        "id": "lXnG0DrTbpsd"
      },
      "source": [
        "# Prepara os dados\n",
        "emb_male = []\n",
        "\n",
        "for i in titanic['Embarked'].unique():\n",
        "    emb_male.append(titanic[(titanic['Sex']=='male') & (titanic['Embarked']==i)]['Fare'].mean())\n",
        "    \n",
        "emb_female = []\n",
        "\n",
        "for j in titanic['Embarked'].unique():\n",
        "    emb_female.append(titanic[(titanic['Sex']=='female') & (titanic['Embarked']==j)]['Fare'].mean())\n",
        "\n",
        "emb = [emb_male,emb_female]"
      ],
      "execution_count": null,
      "outputs": []
    },
    {
      "cell_type": "code",
      "metadata": {
        "id": "UYOz4yvyewZk"
      },
      "source": [
        "titanic['Embarked'].unique()\r\n",
        "titanic['Sex'].unique()"
      ],
      "execution_count": null,
      "outputs": []
    },
    {
      "cell_type": "code",
      "metadata": {
        "id": "MXRvgR8dbpse"
      },
      "source": [
        "# Figura\n",
        "fig = px.imshow(emb, labels = dict(x = \"Porto de Embarque\", y = \"Gênero\", color = \"Valor Médio do Ticket\"),\n",
        "                x = titanic['Embarked'].unique(), y = titanic['Sex'].unique())\n",
        "\n",
        "# Eixos\n",
        "fig.update_xaxes(side = \"top\")\n",
        "\n",
        "# Gráfico\n",
        "fig.show()"
      ],
      "execution_count": null,
      "outputs": []
    },
    {
      "cell_type": "markdown",
      "metadata": {
        "id": "suxJjSgPbpsf"
      },
      "source": [
        "### Wordcloud\n",
        "**Objetivo** : Exibir as palavras de uma coluna com o tamanho representando a frequência.\n",
        "\n",
        "Quais países tem mais universidades avaliadas no dataset de avaliações de universidades?"
      ]
    },
    {
      "cell_type": "code",
      "metadata": {
        "id": "4hvGvVgrbpsg"
      },
      "source": [
        "# Colunas\n",
        "world.columns"
      ],
      "execution_count": null,
      "outputs": []
    },
    {
      "cell_type": "code",
      "metadata": {
        "id": "pWni4tzJbpsg"
      },
      "source": [
        "# Extrai a coluna com os países\n",
        "df = world.country\n",
        "df.head(10)"
      ],
      "execution_count": null,
      "outputs": []
    },
    {
      "cell_type": "code",
      "metadata": {
        "id": "Au-2VL3rbpsg"
      },
      "source": [
        "# Figura\n",
        "plt.subplots(figsize = (8,8))\n",
        "\n",
        "# Wordcloud\n",
        "wordcloud = WordCloud(background_color = 'white',\n",
        "                      width = 512,\n",
        "                      height = 384).generate(' '.join(df))\n",
        "\n",
        "plt.imshow(wordcloud) \n",
        "plt.axis('off') \n",
        "plt.show()"
      ],
      "execution_count": null,
      "outputs": []
    },
    {
      "cell_type": "markdown",
      "metadata": {
        "id": "ypcIlaw-bpsg"
      },
      "source": [
        "# Fim"
      ]
    }
  ]
}