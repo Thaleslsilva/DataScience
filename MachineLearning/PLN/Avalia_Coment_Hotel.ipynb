{
  "nbformat": 4,
  "nbformat_minor": 0,
  "metadata": {
    "anaconda-cloud": {},
    "kernelspec": {
      "display_name": "Python 3",
      "language": "python",
      "name": "python3"
    },
    "language_info": {
      "codemirror_mode": {
        "name": "ipython",
        "version": 3
      },
      "file_extension": ".py",
      "mimetype": "text/x-python",
      "name": "python",
      "nbconvert_exporter": "python",
      "pygments_lexer": "ipython3",
      "version": "3.7.6"
    },
    "colab": {
      "name": "Avalia_Coment_Hotel.ipynb",
      "provenance": []
    }
  },
  "cells": [
    {
      "cell_type": "markdown",
      "metadata": {
        "id": "W_ftuwB5xTfJ"
      },
      "source": [
        "# Collocations e Processamento de Comentários de Avaliações de Hotéis"
      ]
    },
    {
      "cell_type": "markdown",
      "metadata": {
        "id": "-xI-tqolxTfJ"
      },
      "source": [
        "Collocations são duas ou mais palavras que tendem a aparecer frequentemente juntas, como \"Estados Unidos\", \"Rio Grande do Sul\" ou \"Machine Learning\". Essas palavras podem gerar diversas combinações e por isso o contexto também é importante no processamento de linguagem natural.\n",
        "\n",
        "Os dois tipos mais comuns de Collocations são bigramas e trigramas. Bigramas são duas palavras adjacentes, como \"tomografia computadorizada\", \"aprendizado de máquina\" ou \"mídia social\". Trigramas são três palavras adjacentes, como \"fora do negócio\" ou \"Proctor and Gamble\"."
      ]
    },
    {
      "cell_type": "markdown",
      "metadata": {
        "id": "goOqzIiZxTfJ"
      },
      "source": [
        "- Bigramas: (Nome, Nome), (Adjetivo, Nome)\n",
        "- Trigramas: (Adjetivo/Nome, Qualquer_Item, Adjetivo/Nome)"
      ]
    },
    {
      "cell_type": "markdown",
      "metadata": {
        "id": "1ZdPMECDxTfJ"
      },
      "source": [
        "Mas se escolhermos palavras adjacentes como bigrama ou trigramas, não obteremos frases significativas. Por exemplo, a frase 'Ele usa mídias sociais' contém bigramas: 'Ele usa', 'usa mídias', 'mídias sociais'. \"Ele usa\" e \"usa mídias\" não significa nada, enquanto \"mídias sociais\" é um bigrama significativo. \n",
        "\n",
        "Como fazemos boas seleções para Collocations? As co-ocorrências podem não ser suficientes, pois frases como 'assim como' podem co-ocorrer com frequência, mas não são significativas. Vamos explorar vários métodos para filtrar as Collocations mais significativas: contagem de frequências, informação mútua pontual (PMI) e teste de hipóteses (teste t e qui-quadrado)."
      ]
    },
    {
      "cell_type": "markdown",
      "metadata": {
        "id": "H53pqe8FxTfJ"
      },
      "source": [
        "### Definição do Problema\n",
        "\n",
        "Dado um conjunto de texto de avaliações (comentários) de hotéis, vamos buscar as Collocations mais relevantes que ajudam a explicar as avaliações!"
      ]
    },
    {
      "cell_type": "code",
      "metadata": {
        "id": "CqrLFX1wxTfJ"
      },
      "source": [
        "# Se necessário, instale pacotes que não estejam instalados\n",
        "!pip install -q spacy"
      ],
      "execution_count": null,
      "outputs": []
    },
    {
      "cell_type": "code",
      "metadata": {
        "id": "LfUPtsElxTfJ"
      },
      "source": [
        "# Imports\n",
        "import pandas as pd\n",
        "import nltk\n",
        "import spacy\n",
        "import re\n",
        "import string\n",
        "from nltk.corpus import stopwords"
      ],
      "execution_count": null,
      "outputs": []
    },
    {
      "cell_type": "code",
      "metadata": {
        "id": "3eEd29S_xTfJ"
      },
      "source": [
        "# Se necessário, faça o download das stopwords\n",
        "nltk.download('stopwords')"
      ],
      "execution_count": null,
      "outputs": []
    },
    {
      "cell_type": "code",
      "metadata": {
        "id": "zZXYoy85xTfJ"
      },
      "source": [
        "# Carregando dados de avaliações de hotéis\n",
        "# Fonte de dados: https://datafiniti.co/products/business-data/\n",
        "avaliacoes_hoteis = pd.read_csv('https://raw.githubusercontent.com/dsacademybr/Datasets/master/dataset7.csv')"
      ],
      "execution_count": null,
      "outputs": []
    },
    {
      "cell_type": "code",
      "metadata": {
        "id": "8XNkRJrdxTfJ"
      },
      "source": [
        "# Visualiza os dados\n",
        "avaliacoes_hoteis.head(5)"
      ],
      "execution_count": null,
      "outputs": []
    },
    {
      "cell_type": "code",
      "metadata": {
        "id": "lha2hSh3xTfJ"
      },
      "source": [
        "# Tipo do objeto\n",
        "type(avaliacoes_hoteis)"
      ],
      "execution_count": null,
      "outputs": []
    },
    {
      "cell_type": "code",
      "metadata": {
        "id": "3YaO5sycxTfJ"
      },
      "source": [
        "# Shape\n",
        "avaliacoes_hoteis.shape"
      ],
      "execution_count": null,
      "outputs": []
    },
    {
      "cell_type": "code",
      "metadata": {
        "id": "7IprxkoyxTfJ"
      },
      "source": [
        "# Extraindo as avaliações\n",
        "comentarios = avaliacoes_hoteis['reviews.text']"
      ],
      "execution_count": null,
      "outputs": []
    },
    {
      "cell_type": "code",
      "metadata": {
        "id": "861mX7qkxTfJ"
      },
      "source": [
        "# Converte para o tipo string\n",
        "comentarios = comentarios.astype('str')"
      ],
      "execution_count": null,
      "outputs": []
    },
    {
      "cell_type": "code",
      "metadata": {
        "id": "y6PR_31lxTfJ"
      },
      "source": [
        "# Função para remover caracteres non-ascii \n",
        "def removeNoAscii(s): \n",
        "    return \"\".join(i for i in s if ord(i) < 128)"
      ],
      "execution_count": null,
      "outputs": []
    },
    {
      "cell_type": "code",
      "metadata": {
        "id": "Xggz8AUXxTfJ"
      },
      "source": [
        "# Remove caracteres non-ascii \n",
        "comentarios = comentarios.map(lambda x: removeNoAscii(x))"
      ],
      "execution_count": null,
      "outputs": []
    },
    {
      "cell_type": "code",
      "metadata": {
        "id": "wkMa1k7fxTfJ"
      },
      "source": [
        "# Obtém as stopwords em todos os idiomas\n",
        "dicionario_stopwords = {lang: set(nltk.corpus.stopwords.words(lang)) for lang in nltk.corpus.stopwords.fileids()}\n",
        "dicionario_stopwords"
      ],
      "execution_count": null,
      "outputs": []
    },
    {
      "cell_type": "code",
      "metadata": {
        "id": "-XXuHn9axTfJ"
      },
      "source": [
        "# Função para detectar o idioma predominante com base nas stopwords\n",
        "def descobre_idioma(text):\n",
        "    \n",
        "    # Aplica tokenização considerando pontuação\n",
        "    palavras = set(nltk.wordpunct_tokenize(text.lower()))\n",
        "    \n",
        "    # Conta o total de palavras tokenizadas considerando o dicionário de stopwords\n",
        "    lang = max(((lang, len(palavras & stopwords)) for lang, stopwords in dicionario_stopwords.items()), key = lambda x: x[1])[0]\n",
        "    \n",
        "    # Verifica se o idioma é português\n",
        "    if lang == 'portuguese':\n",
        "        return True\n",
        "    else:\n",
        "        return False"
      ],
      "execution_count": null,
      "outputs": []
    },
    {
      "cell_type": "code",
      "metadata": {
        "id": "vTWxQuxBxTfJ"
      },
      "source": [
        "# Filtra somente os comentários em português\n",
        "comentarios_portugues = comentarios[comentarios.apply(descobre_idioma)]"
      ],
      "execution_count": null,
      "outputs": []
    },
    {
      "cell_type": "code",
      "metadata": {
        "id": "Df4kJ6sAxTfJ"
      },
      "source": [
        "# Shape\n",
        "comentarios_portugues.shape"
      ],
      "execution_count": null,
      "outputs": []
    },
    {
      "cell_type": "code",
      "metadata": {
        "id": "BuzZSJetxTfJ"
      },
      "source": [
        "# Print\n",
        "comentarios_portugues"
      ],
      "execution_count": null,
      "outputs": []
    },
    {
      "cell_type": "code",
      "metadata": {
        "id": "l1kkRp6qxTfJ"
      },
      "source": [
        "# Função para detectar o idioma predominante com base nas stopwords\n",
        "def descobre_idioma(text):\n",
        "    words = set(nltk.wordpunct_tokenize(text.lower()))\n",
        "    lang = max(((lang, len(words & stopwords)) for lang, stopwords in dicionario_stopwords.items()), key = lambda x: x[1])[0]\n",
        "    if lang == 'english':\n",
        "        return True\n",
        "    else:\n",
        "        return False"
      ],
      "execution_count": null,
      "outputs": []
    },
    {
      "cell_type": "code",
      "metadata": {
        "id": "r29kGsOFxTfJ"
      },
      "source": [
        "# Filtra somente os comentários em português\n",
        "comentarios_ingles = comentarios[comentarios.apply(descobre_idioma)]"
      ],
      "execution_count": null,
      "outputs": []
    },
    {
      "cell_type": "code",
      "metadata": {
        "id": "kziZQs8exTfJ"
      },
      "source": [
        "# Shape\n",
        "comentarios_ingles.shape"
      ],
      "execution_count": null,
      "outputs": []
    },
    {
      "cell_type": "code",
      "metadata": {
        "id": "R7-RbuqMxTfY"
      },
      "source": [
        "# Print\n",
        "comentarios_ingles.head()"
      ],
      "execution_count": null,
      "outputs": []
    },
    {
      "cell_type": "code",
      "metadata": {
        "id": "YuKgmNKixTfY"
      },
      "source": [
        "# Removendo duplicidades - inplace = True aplica o drop no dataset\n",
        "comentarios_ingles.drop_duplicates(inplace = True)"
      ],
      "execution_count": null,
      "outputs": []
    },
    {
      "cell_type": "code",
      "metadata": {
        "id": "DTptTaSZxTfY"
      },
      "source": [
        "# Shape\n",
        "comentarios_ingles.shape"
      ],
      "execution_count": null,
      "outputs": []
    },
    {
      "cell_type": "code",
      "metadata": {
        "id": "-2_2pI7wxTfY"
      },
      "source": [
        "# Baixando o dicionário inglês\n",
        "# https://spacy.io/usage/models\n",
        "!python -m spacy download en_core_web_sm"
      ],
      "execution_count": null,
      "outputs": []
    },
    {
      "cell_type": "markdown",
      "metadata": {
        "id": "J_xEb2xhxTfY"
      },
      "source": [
        "> Pode ser necessário reiniciar o Jupyter Notebook para executar a célula abaixo."
      ]
    },
    {
      "cell_type": "code",
      "metadata": {
        "id": "yvM3cTB5xTfY"
      },
      "source": [
        "# Carrega o dcionário em nossa sessão SpaCy\n",
        "nlp = spacy.load(\"en_core_web_sm\")"
      ],
      "execution_count": null,
      "outputs": []
    },
    {
      "cell_type": "code",
      "metadata": {
        "id": "gmkT17MVxTfY"
      },
      "source": [
        "# Função para limpar e lematizar os comentários\n",
        "def limpa_comentarios(text):\n",
        "    \n",
        "    # Remove pontuação usando expressão regular\n",
        "    regex = re.compile('[' + re.escape(string.punctuation) + '\\\\r\\\\t\\\\n]')\n",
        "    nopunct = regex.sub(\" \", str(text))\n",
        "    \n",
        "    # Usa o SpaCy para lematização\n",
        "    doc = nlp(nopunct, disable = ['parser', 'ner'])\n",
        "    lemma = [token.lemma_ for token in doc]\n",
        "    return lemma"
      ],
      "execution_count": null,
      "outputs": []
    },
    {
      "cell_type": "code",
      "metadata": {
        "id": "E9UILMxwxTfY"
      },
      "source": [
        "# Aplica a função aos dados\n",
        "comentarios_ingles_lemmatized = comentarios_ingles.map(limpa_comentarios)"
      ],
      "execution_count": null,
      "outputs": []
    },
    {
      "cell_type": "code",
      "metadata": {
        "id": "YDBD8OSRxTfY"
      },
      "source": [
        "# Coloca tudo em minúsculo\n",
        "comentarios_ingles_lemmatized = comentarios_ingles_lemmatized.map(lambda x: [word.lower() for word in x])"
      ],
      "execution_count": null,
      "outputs": []
    },
    {
      "cell_type": "code",
      "metadata": {
        "id": "GDf1ezfvxTfY"
      },
      "source": [
        "# Visualiza os dados\n",
        "comentarios_ingles_lemmatized.head()"
      ],
      "execution_count": null,
      "outputs": []
    },
    {
      "cell_type": "code",
      "metadata": {
        "id": "8P8IaVRrxTfY"
      },
      "source": [
        "# Vamos tokenizar os comentários\n",
        "comentarios_tokens = [item for items in comentarios_ingles_lemmatized for item in items]"
      ],
      "execution_count": null,
      "outputs": []
    },
    {
      "cell_type": "code",
      "metadata": {
        "scrolled": false,
        "id": "sK332hHJxTfY"
      },
      "source": [
        "# Tokens\n",
        "comentarios_tokens"
      ],
      "execution_count": null,
      "outputs": []
    },
    {
      "cell_type": "markdown",
      "metadata": {
        "id": "4fQBisMPxTfY"
      },
      "source": [
        "### Estratégia 1 - Buscando Bigramas e Trigramas Mais Relevantes nos Comentários Por Frequência\n",
        "\n",
        "Nossa primeira estratégia é a mais simples de todas: contagem de frequência. Contamos quantas vezes cada Collocation aparece no texto e filtramos pelos Collocations mais frequentes.\n",
        "\n",
        "Vamos filtrar apenas os adjetivos e substantivos para reduzir o tempo de processamento e vamos contar a frequência dos Collocations, bigramas e trigramas, nos comentários."
      ]
    },
    {
      "cell_type": "code",
      "metadata": {
        "id": "NLANWQKdxTfY"
      },
      "source": [
        "# Métricas de associação de bigramas (esse objeto possui diversos atributos, como freq, pmi, teste t, etc...)\n",
        "bigramas = nltk.collocations.BigramAssocMeasures()"
      ],
      "execution_count": null,
      "outputs": []
    },
    {
      "cell_type": "code",
      "metadata": {
        "id": "fiqWn-dGxTfY"
      },
      "source": [
        "# Métricas de associação de trigramas\n",
        "trigramas = nltk.collocations.TrigramAssocMeasures()"
      ],
      "execution_count": null,
      "outputs": []
    },
    {
      "cell_type": "code",
      "metadata": {
        "id": "ydFoR0KIxTfY"
      },
      "source": [
        "# O próximo passo é criar um buscador de bigramas nos tokens\n",
        "buscaBigramas = nltk.collocations.BigramCollocationFinder.from_words(comentarios_tokens)"
      ],
      "execution_count": null,
      "outputs": []
    },
    {
      "cell_type": "code",
      "metadata": {
        "id": "hPicV3CjxTfY"
      },
      "source": [
        "# Fazemos o mesmo com trigramas. Fique atento aos métodos que estão sendo usados\n",
        "buscaTrigramas = nltk.collocations.TrigramCollocationFinder.from_words(comentarios_tokens)"
      ],
      "execution_count": null,
      "outputs": []
    },
    {
      "cell_type": "code",
      "metadata": {
        "id": "lGg0zOglxTfY"
      },
      "source": [
        "# Vamos contar quantas vezes cada bigrama aparece nos tokens dos comentários\n",
        "bigrama_freq = buscaBigramas.ngram_fd.items()"
      ],
      "execution_count": null,
      "outputs": []
    },
    {
      "cell_type": "code",
      "metadata": {
        "id": "nnNBfdbLxTfY"
      },
      "source": [
        "# Frequência dos bigramas\n",
        "bigrama_freq"
      ],
      "execution_count": null,
      "outputs": []
    },
    {
      "cell_type": "code",
      "metadata": {
        "id": "x1aG2Uj3xTfY"
      },
      "source": [
        "# Vamos converter o dicionário anterior em uma tabela de frequência no formato do Pandas para os bigramas\n",
        "FreqTabBigramas = pd.DataFrame(list(bigrama_freq), \n",
        "                               columns = ['Bigrama', 'Freq']).sort_values(by = 'Freq', ascending = False)"
      ],
      "execution_count": null,
      "outputs": []
    },
    {
      "cell_type": "code",
      "metadata": {
        "id": "dc6yJGGvxTfY"
      },
      "source": [
        "# Visualiza a tabela\n",
        "FreqTabBigramas.head(5)"
      ],
      "execution_count": null,
      "outputs": []
    },
    {
      "cell_type": "code",
      "metadata": {
        "id": "fq119k5QxTfY"
      },
      "source": [
        "# Vamos contar quantas vezes cada trigrama aparece nos tokens dos comentários\n",
        "trigrama_freq = buscaTrigramas.ngram_fd.items()"
      ],
      "execution_count": null,
      "outputs": []
    },
    {
      "cell_type": "code",
      "metadata": {
        "id": "LoKy3PRbxTfY"
      },
      "source": [
        "# Tabela de frequência no formato do Pandas para os trigramas\n",
        "FreqTabTrigramas = pd.DataFrame(list(trigrama_freq), \n",
        "                                columns = ['Trigrama','Freq']).sort_values(by = 'Freq', ascending = False)"
      ],
      "execution_count": null,
      "outputs": []
    },
    {
      "cell_type": "code",
      "metadata": {
        "id": "ErmOviomxTfY"
      },
      "source": [
        "# Visualiza a tabela\n",
        "FreqTabTrigramas.head(5)"
      ],
      "execution_count": null,
      "outputs": []
    },
    {
      "cell_type": "markdown",
      "metadata": {
        "id": "JH23Qv_gxTfY"
      },
      "source": [
        "Temos muitas stopwords. Vamos removê-las."
      ]
    },
    {
      "cell_type": "code",
      "metadata": {
        "id": "wkTNG9SyxTfY"
      },
      "source": [
        "# Vamos criar uma lista de stopwords\n",
        "en_stopwords = set(stopwords.words('english'))"
      ],
      "execution_count": null,
      "outputs": []
    },
    {
      "cell_type": "code",
      "metadata": {
        "id": "AGJ0V1QLAKfU"
      },
      "source": [
        "# Necessário para criar as funções de filtro\r\n",
        "import nltk\r\n",
        "nltk.download('averaged_perceptron_tagger')"
      ],
      "execution_count": null,
      "outputs": []
    },
    {
      "cell_type": "code",
      "metadata": {
        "id": "-o5gIloWxTfo"
      },
      "source": [
        "# Função para filtrar bigramas ADJ/NN e remover stopwords\n",
        "def filtra_tipo_token_bigrama(ngram):\n",
        "    \n",
        "    # Verifica se é pronome\n",
        "    if '-pron-' in ngram or 't' in ngram:\n",
        "        return False\n",
        "    \n",
        "    # Loop nos ngramas para verificar se é stopword\n",
        "    for word in ngram:\n",
        "        if word in en_stopwords or word.isspace():\n",
        "            return False\n",
        "        \n",
        "    # Tipos de tokens aceitáveis\n",
        "    acceptable_types = ('JJ', 'JJR', 'JJS', 'NN', 'NNS', 'NNP', 'NNPS')\n",
        "    \n",
        "    # Subtipos\n",
        "    second_type = ('NN', 'NNS', 'NNP', 'NNPS')\n",
        "    \n",
        "    # Tags\n",
        "    tags = nltk.pos_tag(ngram)\n",
        "    \n",
        "    # Retorna o que queremos, ADJ/NN\n",
        "    if tags[0][1] in acceptable_types and tags[1][1] in second_type:\n",
        "        return True\n",
        "    else:\n",
        "        return False"
      ],
      "execution_count": null,
      "outputs": []
    },
    {
      "cell_type": "code",
      "metadata": {
        "id": "RyieJNTqxTfo"
      },
      "source": [
        "# Agora filtramos os bigramas\n",
        "bigramas_filtrados = FreqTabBigramas[FreqTabBigramas.Bigrama.map(lambda x: filtra_tipo_token_bigrama(x))]"
      ],
      "execution_count": null,
      "outputs": []
    },
    {
      "cell_type": "code",
      "metadata": {
        "id": "BPZyY_8AxTfo"
      },
      "source": [
        "# Visualiza a tabela\n",
        "bigramas_filtrados.head(5)"
      ],
      "execution_count": null,
      "outputs": []
    },
    {
      "cell_type": "code",
      "metadata": {
        "id": "m5fG3_q_xTfo"
      },
      "source": [
        "# Função para filtrar trigramas ADJ/NN e remover stopwords\n",
        "def filtra_tipo_token_trigrama(ngram):\n",
        "    \n",
        "    # Verifica se é pronome\n",
        "    if '-pron-' in ngram or 't' in ngram:\n",
        "        return False\n",
        "    \n",
        "    # Loop nos ngramas para verificar se é stopword\n",
        "    for word in ngram:\n",
        "        if word in en_stopwords or word.isspace():\n",
        "            return False\n",
        "        \n",
        "    # Tipos de tokens aceitáveis\n",
        "    first_type = ('JJ', 'JJR', 'JJS', 'NN', 'NNS', 'NNP', 'NNPS')\n",
        "    \n",
        "    # Subtipos\n",
        "    second_type = ('JJ', 'JJR', 'JJS', 'NN', 'NNS', 'NNP', 'NNPS')\n",
        "    \n",
        "    # Tags\n",
        "    tags = nltk.pos_tag(ngram)\n",
        "    \n",
        "    # Retorna o que queremos, ADJ/NN\n",
        "    if tags[0][1] in first_type and tags[2][1] in second_type:\n",
        "        return True\n",
        "    else:\n",
        "        return False"
      ],
      "execution_count": null,
      "outputs": []
    },
    {
      "cell_type": "code",
      "metadata": {
        "id": "RDlTIyETxTfo"
      },
      "source": [
        "# Agora filtramos os trigramas\n",
        "trigramas_filtrados = FreqTabTrigramas[FreqTabTrigramas.Trigrama.map(lambda x: filtra_tipo_token_trigrama(x))]"
      ],
      "execution_count": null,
      "outputs": []
    },
    {
      "cell_type": "code",
      "metadata": {
        "id": "D_es3PC3xTfo"
      },
      "source": [
        "# Visualiza a tabela\n",
        "trigramas_filtrados.head(5)"
      ],
      "execution_count": null,
      "outputs": []
    },
    {
      "cell_type": "markdown",
      "metadata": {
        "id": "bTrwEpqqxTfo"
      },
      "source": [
        "Já temos os bigramas e trigramas mais relevantes por frequência. Vamos usar os outros métodos e depois comparar todos eles."
      ]
    },
    {
      "cell_type": "markdown",
      "metadata": {
        "id": "wSB3zWssxTfo"
      },
      "source": [
        "### Estratégia 2 - Buscando Bigramas e Trigramas Mais Relevantes nos Comentários Por PMI\n",
        "\n",
        "PMI significa Pointwise Mutual Information\n",
        "\n",
        "PMI é um score que mede a probabilidade com que as palavras co-ocorrem mais do que se fossem independentes. No entanto, é muito sensível à combinação rara de palavras. Por exemplo, se um bigrama aleatório 'abc xyz' aparecer e nem 'abc' nem 'xyz' aparecerem em nenhum outro lugar do texto, 'abc xyz' será identificado como bigrama altamente significativo quando poderia ser apenas um erro ortográfico aleatório ou um frase muito rara para generalizar como um bigrama. Portanto, esse método é frequentemente usado com um filtro de frequência."
      ]
    },
    {
      "cell_type": "code",
      "metadata": {
        "id": "S3F_unB5xTfo"
      },
      "source": [
        "# Vamos retornar somente bigramas com 20 ou mais ocorrências\n",
        "buscaBigramas.apply_freq_filter(20)"
      ],
      "execution_count": null,
      "outputs": []
    },
    {
      "cell_type": "code",
      "metadata": {
        "id": "VI09Lrp6xTfo"
      },
      "source": [
        "# Criamos a tabela\n",
        "PMITabBigramas = pd.DataFrame(list(buscaBigramas.score_ngrams(bigramas.pmi)), \n",
        "                              columns = ['Bigrama', 'PMI']).sort_values(by = 'PMI', ascending = False)"
      ],
      "execution_count": null,
      "outputs": []
    },
    {
      "cell_type": "code",
      "metadata": {
        "id": "GOQdziYFxTfo"
      },
      "source": [
        "# Visualiza a tabela\n",
        "PMITabBigramas.head(5)"
      ],
      "execution_count": null,
      "outputs": []
    },
    {
      "cell_type": "code",
      "metadata": {
        "id": "_dPpoNevxTfo"
      },
      "source": [
        "# Vamos retornar somente trigramas com 20 ou mais ocorrências\n",
        "buscaTrigramas.apply_freq_filter(20)"
      ],
      "execution_count": null,
      "outputs": []
    },
    {
      "cell_type": "code",
      "metadata": {
        "id": "v7yRXq7axTfo"
      },
      "source": [
        "# Criamos a tabela\n",
        "PMITabTrigramas = pd.DataFrame(list(buscaTrigramas.score_ngrams(trigramas.pmi)), \n",
        "                               columns = ['Trigrama', 'PMI']).sort_values(by = 'PMI', ascending = False)"
      ],
      "execution_count": null,
      "outputs": []
    },
    {
      "cell_type": "code",
      "metadata": {
        "id": "9S6CCab3xTfo"
      },
      "source": [
        "# Visualiza a tabela\n",
        "PMITabTrigramas.head(5)"
      ],
      "execution_count": null,
      "outputs": []
    },
    {
      "cell_type": "markdown",
      "metadata": {
        "id": "E8gQmVW7xTfo"
      },
      "source": [
        "### Estratégia 3 - Buscando Bigramas e Trigramas Mais Relevantes nos Comentários Por Teste t\n",
        "\n",
        "O Teste t é um teste estatístico que assume uma distribuição normal dos dados. Na prática, é um teste de hipóteses, uma das bases da Inferência Estatistica.\n",
        "\n",
        "- H0 é a hipótese nula, que palavras ocorrem em conjunto (bigramas ou trigramas) com determinada probabilidade.\n",
        "- H1 é a hipótese alternativa, que palavras não ocorrem em conjunto (bigramas ou trigramas) com determinada probabilidade.\n",
        "\n",
        "Ao aplicar o Teste t rejeitamos ou não a H0 através do cálculo de um score e assim representamos os Collocations mais relevantes no texto."
      ]
    },
    {
      "cell_type": "code",
      "metadata": {
        "id": "9F9KQZpIxTfo"
      },
      "source": [
        "# Criamos a tabela para os bigramas\n",
        "# Observe como o resultado do teste t é obtido: buscaBigramas.score_ngrams(bigramas.student_t)\n",
        "TestetTabBigramas = pd.DataFrame(list(buscaBigramas.score_ngrams(bigramas.student_t)), \n",
        "                             columns = ['Bigrama', 'Teste-t']).sort_values(by = 'Teste-t', ascending = False)"
      ],
      "execution_count": null,
      "outputs": []
    },
    {
      "cell_type": "code",
      "metadata": {
        "id": "Ff6a9NUVxTfo"
      },
      "source": [
        "# Vamos aplicar o filtro pelo tipo de token conforme aplicamos no método 1\n",
        "bigramas_t_filtrados = TestetTabBigramas[TestetTabBigramas.Bigrama.map(lambda x: filtra_tipo_token_bigrama(x))]"
      ],
      "execution_count": null,
      "outputs": []
    },
    {
      "cell_type": "code",
      "metadata": {
        "id": "IEpJXRDRxTfo"
      },
      "source": [
        "# Visualiza a tabela\n",
        "bigramas_t_filtrados.head(5)"
      ],
      "execution_count": null,
      "outputs": []
    },
    {
      "cell_type": "code",
      "metadata": {
        "id": "r1GK_qOVxTfo"
      },
      "source": [
        "# Criamos a tabela para os trigramas\n",
        "TestetTabTrigramas = pd.DataFrame(list(buscaTrigramas.score_ngrams(trigramas.student_t)), \n",
        "                                  columns = ['Trigrama', 'Teste-t']).sort_values(by = 'Teste-t', ascending = False)"
      ],
      "execution_count": null,
      "outputs": []
    },
    {
      "cell_type": "code",
      "metadata": {
        "id": "8tOR0f2fxTfo"
      },
      "source": [
        "# Vamos aplicar o filtro pelo tipo de token conforme aplicamos no método 1\n",
        "trigramas_t_filtrados = TestetTabTrigramas[TestetTabTrigramas.Trigrama.map(lambda x: filtra_tipo_token_trigrama(x))]"
      ],
      "execution_count": null,
      "outputs": []
    },
    {
      "cell_type": "code",
      "metadata": {
        "id": "cLdS1i6dxTfo"
      },
      "source": [
        "# Visualiza a tabela\n",
        "trigramas_t_filtrados.head(5)"
      ],
      "execution_count": null,
      "outputs": []
    },
    {
      "cell_type": "markdown",
      "metadata": {
        "id": "rhGfxn8XxTfo"
      },
      "source": [
        "### Estratégia 4 - Buscando Bigramas e Trigramas Mais Relevantes nos Comentários Por Teste do Qui-quadrado\n",
        "\n",
        "O teste do qui-quadrado é uma alternativa ao teste t. O teste do qui-quadrado assume na hipótese nula que as palavras são independentes, assim como no teste t."
      ]
    },
    {
      "cell_type": "code",
      "metadata": {
        "id": "Ejzgi26uxTfo"
      },
      "source": [
        "# Prepara a tabela\n",
        "# Observe como estamos coletando a estatística qui-quadrado: buscaBigramas.score_ngrams(bigramas.chi_sq)\n",
        "QuiTabBigramas = pd.DataFrame(list(buscaBigramas.score_ngrams(bigramas.chi_sq)), \n",
        "                              columns = ['Bigrama', 'Qui']).sort_values(by = 'Qui', ascending = False)"
      ],
      "execution_count": null,
      "outputs": []
    },
    {
      "cell_type": "code",
      "metadata": {
        "id": "N96JPjVgxTfo"
      },
      "source": [
        "# Visualiza a tabela\n",
        "QuiTabBigramas.head(5)"
      ],
      "execution_count": null,
      "outputs": []
    },
    {
      "cell_type": "code",
      "metadata": {
        "id": "gYcMK-y_xTfo"
      },
      "source": [
        "# Prepara a tabela\n",
        "QuiTabTrigramas = pd.DataFrame(list(buscaTrigramas.score_ngrams(trigramas.chi_sq)), \n",
        "                               columns = ['Trigrama', 'Qui']).sort_values(by = 'Qui', ascending = False)"
      ],
      "execution_count": null,
      "outputs": []
    },
    {
      "cell_type": "code",
      "metadata": {
        "id": "CoXPjpSxxTfo"
      },
      "source": [
        "# Visualiza a tabela\n",
        "QuiTabTrigramas.head(5)"
      ],
      "execution_count": null,
      "outputs": []
    },
    {
      "cell_type": "markdown",
      "metadata": {
        "id": "JjmOZPcaxTf4"
      },
      "source": [
        "### Comparação e Resultado Final"
      ]
    },
    {
      "cell_type": "code",
      "metadata": {
        "id": "SII_Wl3lxTf4"
      },
      "source": [
        "# Vamos extrair os 10 Collocations bigramas mais relevantes de acordo com cada um dos 4 métodos usados\n",
        "# Lembre-se que aplicamos filtros para remover as stopwords e devemos usar a tabela filtrada\n",
        "metodo1_bigrama = bigramas_filtrados[:10].Bigrama.values\n",
        "metodo2_bigrama = PMITabBigramas[:10].Bigrama.values\n",
        "metodo3_bigrama = bigramas_t_filtrados[:10].Bigrama.values\n",
        "metodo4_bigrama = QuiTabBigramas[:10].Bigrama.values"
      ],
      "execution_count": null,
      "outputs": []
    },
    {
      "cell_type": "code",
      "metadata": {
        "id": "9SEZdWOPxTf4"
      },
      "source": [
        "# Vamos extrair os 10 Collocations trigramas mais relevantes de acordo com cada um dos 4 métodos usados\n",
        "# Lembre-se que aplicamos filtros para remover as stopwords e devemos usar a tabela filtrada\n",
        "metodo1_trigrama = trigramas_filtrados[:10].Trigrama.values\n",
        "metodo2_trigrama = PMITabTrigramas[:10].Trigrama.values\n",
        "metodo3_trigrama = trigramas_t_filtrados[:10].Trigrama.values\n",
        "metodo4_trigrama = QuiTabTrigramas[:10].Trigrama.values"
      ],
      "execution_count": null,
      "outputs": []
    },
    {
      "cell_type": "code",
      "metadata": {
        "id": "bpvhMuJixTf4"
      },
      "source": [
        "# Vamos criar um super dataframe com todos os resultados para bigramas\n",
        "comparaBigramas = pd.DataFrame([metodo1_bigrama, metodo2_bigrama, metodo3_bigrama, metodo4_bigrama]).T"
      ],
      "execution_count": null,
      "outputs": []
    },
    {
      "cell_type": "code",
      "metadata": {
        "id": "JlqsjbG8xTf4"
      },
      "source": [
        "# Nossa tabela precisa de nomes para as colunas\n",
        "comparaBigramas.columns = ['Frequência', \n",
        "                           'PMI', \n",
        "                           'Teste-t', \n",
        "                           'Teste Qui-quadrado']"
      ],
      "execution_count": null,
      "outputs": []
    },
    {
      "cell_type": "code",
      "metadata": {
        "id": "wqztMjT8xTf4"
      },
      "source": [
        "# Visualiza a tabela - Padrão CSS\n",
        "comparaBigramas.style.set_properties(**{'background-color': 'green', \n",
        "                                        'color': 'white', \n",
        "                                        'border-color': 'white'})"
      ],
      "execution_count": null,
      "outputs": []
    },
    {
      "cell_type": "code",
      "metadata": {
        "id": "Q-AeoFibxTf4"
      },
      "source": [
        "# Vamos criar um super dataframe com todos os resultados para trigramas\n",
        "comparaTrigramas = pd.DataFrame([metodo1_trigrama, metodo2_trigrama, metodo3_trigrama, metodo4_trigrama]).T"
      ],
      "execution_count": null,
      "outputs": []
    },
    {
      "cell_type": "code",
      "metadata": {
        "id": "gYA-r6JgxTf4"
      },
      "source": [
        "# Nossa tabela precisa de nomes para as colunas\n",
        "comparaTrigramas.columns = ['Frequência', \n",
        "                            'PMI', \n",
        "                            'Teste-t', \n",
        "                            'Teste Qui-quadrado']"
      ],
      "execution_count": null,
      "outputs": []
    },
    {
      "cell_type": "code",
      "metadata": {
        "id": "PQSbho1RxTf4"
      },
      "source": [
        "# Visualiza a tabela\n",
        "comparaTrigramas.style.set_properties(**{'background-color': 'blue', \n",
        "                                         'color': 'white', \n",
        "                                         'border-color': 'white'})"
      ],
      "execution_count": null,
      "outputs": []
    },
    {
      "cell_type": "markdown",
      "metadata": {
        "id": "qH5BH1WxxTf4"
      },
      "source": [
        "### Conclusão\n",
        "\n",
        "Podemos ver que os métodos PMI e Qui-quadrado fornecem bons resultados. Seus resultados também são semelhantes. \n",
        "\n",
        "Mas os métodos de Frequência e Teste-t apresentam os melhores resutados e são também muito semelhantes entre si. \n",
        "\n",
        "Em aplicativos reais, podemos observar a lista e definir um limite em um valor a partir de quando a lista para de fazer sentido. Também podemos fazer testes diferentes para ver qual lista parece fazer mais sentido para um determinado conjunto de dados. \n",
        "\n",
        "Como alternativa, podemos combinar resultados de várias listas. Uma boa escolha é multiplicar o PMI e a Frequência para levar em consideração o aumento da probabilidade e a frequência da ocorrência. Ou multiplicar a frequência pelo Teste-t criando assim um índice único de relevância das Collocations.\n",
        "\n",
        "Para este trabalho, vamos considerar as Collocations calculadas por Frequência como as mais relevantes. A escolha se deve ao fato de que as suposições para o Teste-t não foram validadas e usar seu resultado seria inadequado. Salvamos a coluna de frequência do dataframe final em formato csv ou txt e encaminhamos à área de Marketing da rede de hotéis.\n",
        "\n",
        "Você pode continuar o trabalho e alterar os métodos acima, se desejar."
      ]
    },
    {
      "cell_type": "markdown",
      "metadata": {
        "id": "tMdKlovBxTf4"
      },
      "source": [
        "# Fim"
      ]
    }
  ]
}