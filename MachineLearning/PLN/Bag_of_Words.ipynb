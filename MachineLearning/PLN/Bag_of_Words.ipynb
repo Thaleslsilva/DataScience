{
  "nbformat": 4,
  "nbformat_minor": 0,
  "metadata": {
    "kernelspec": {
      "display_name": "Python 3",
      "language": "python",
      "name": "python3"
    },
    "language_info": {
      "codemirror_mode": {
        "name": "ipython",
        "version": 3
      },
      "file_extension": ".py",
      "mimetype": "text/x-python",
      "name": "python",
      "nbconvert_exporter": "python",
      "pygments_lexer": "ipython3",
      "version": "3.7.6"
    },
    "colab": {
      "name": "Class_Idiom_BOW.ipynb",
      "provenance": []
    }
  },
  "cells": [
    {
      "cell_type": "markdown",
      "metadata": {
        "id": "eaLQ7ZbMzd6r"
      },
      "source": [
        "## Modelo de Classificação de Idiomas de Sentenças com Bag of Words e PyTorch"
      ]
    },
    {
      "cell_type": "code",
      "metadata": {
        "id": "V_t8b9Ofzd6t"
      },
      "source": [
        "# Para atualizar um pacote, execute o comando abaixo no terminal ou prompt de comando:\n",
        "# pip install -U nome_pacote\n",
        "\n",
        "# Para instalar a versão exata de um pacote, execute o comando abaixo no terminal ou prompt de comando:\n",
        "# !pip install torch==1.5.0\n",
        "\n",
        "# Depois de instalar ou atualizar o pacote, reinicie o jupyter notebook.\n",
        "\n",
        "# Instala o pacote watermark. \n",
        "# Esse pacote é usado para gravar as versões de outros pacotes usados neste jupyter notebook.\n",
        "!pip install -q -U watermark"
      ],
      "execution_count": null,
      "outputs": []
    },
    {
      "cell_type": "code",
      "metadata": {
        "id": "MmDkq_A3zd6u"
      },
      "source": [
        "# Instala o PyTorch\n",
        "!pip install -q -U torch torchvision"
      ],
      "execution_count": null,
      "outputs": []
    },
    {
      "cell_type": "code",
      "metadata": {
        "id": "lSWmLKfgzd6v"
      },
      "source": [
        "# Imports\n",
        "import numpy as np \n",
        "import pandas as pd \n",
        "import matplotlib.pyplot as plt\n",
        "import torch\n",
        "import torch.nn.functional as F\n",
        "from torch import nn, optim"
      ],
      "execution_count": null,
      "outputs": []
    },
    {
      "cell_type": "code",
      "metadata": {
        "id": "rU5Wq1fDzd6v"
      },
      "source": [
        "# Versões dos pacotes usados neste jupyter notebook\n",
        "%reload_ext watermark\n",
        "%watermark -a \"Thales Lima Silva\" --iversions"
      ],
      "execution_count": null,
      "outputs": []
    },
    {
      "cell_type": "markdown",
      "metadata": {
        "id": "Xq3zW-M_zd6z"
      },
      "source": [
        "### Preparando os Dados"
      ]
    },
    {
      "cell_type": "code",
      "metadata": {
        "id": "kAa0B-xVzd60"
      },
      "source": [
        "# Dados de treino\n",
        "dados_treino = [(\"Tenho vinte paginas de leitura\".lower().split(), \"Portuguese\"),\n",
        "                (\"I will visit the library\".lower().split(), \"English\"),\n",
        "                (\"I am reading a book\".lower().split(), \"English\"),\n",
        "                (\"This is my favourite chapter\".lower().split(), \"English\"),\n",
        "                (\"Estou na biblioteca lendo meu livro preferido\".lower().split(), \"Portuguese\"),\n",
        "                (\"Gosto de livros sobre viagens\".lower().split(), \"Portuguese\")]"
      ],
      "execution_count": null,
      "outputs": []
    },
    {
      "cell_type": "code",
      "metadata": {
        "id": "BLhQDH3jzd63"
      },
      "source": [
        "# Dados de teste\n",
        "dados_teste = [(\"Estou lendo\".lower().split(), \"Portuguese\"),\n",
        "               (\"This is not my favourite book\".lower().split(), \"English\")]"
      ],
      "execution_count": null,
      "outputs": []
    },
    {
      "cell_type": "code",
      "metadata": {
        "id": "MaUj2QJazd65"
      },
      "source": [
        "# Prepara o dicionário do vocabulário\n",
        "\n",
        "# Dicionário para o vocabulário\n",
        "dict_vocab = {}\n",
        "\n",
        "# Contadoor\n",
        "i = 0\n",
        "\n",
        "# Loop pelos dados de treino e teste\n",
        "for palavras, idiomas in dados_treino + dados_teste:\n",
        "    for palavra in palavras:\n",
        "        if palavra not in dict_vocab:\n",
        "            dict_vocab[palavra] = i\n",
        "            i += 1\n",
        "\n",
        "# Visualiza o vocabulário\n",
        "print(dict_vocab)"
      ],
      "execution_count": null,
      "outputs": []
    },
    {
      "cell_type": "code",
      "metadata": {
        "id": "WwiGLcUTzd67"
      },
      "source": [
        "# Tamanho do corpus\n",
        "tamanho_corpus = len(dict_vocab)\n",
        "tamanho_corpus"
      ],
      "execution_count": null,
      "outputs": []
    },
    {
      "cell_type": "code",
      "metadata": {
        "id": "wNs6_8ivzd69"
      },
      "source": [
        "# Número de idiomas\n",
        "idiomas = 2\n",
        "# Índice para os idiomas\n",
        "label_index = {\"Portuguese\": 0, \"English\": 1}"
      ],
      "execution_count": null,
      "outputs": []
    },
    {
      "cell_type": "markdown",
      "metadata": {
        "id": "yhohdhVWzd6-"
      },
      "source": [
        "### Construção do Modelo"
      ]
    },
    {
      "cell_type": "code",
      "metadata": {
        "id": "kf3uy08Tzd6_"
      },
      "source": [
        "# Classe para o modelo BOW de classificação\n",
        "class ModeloBOW(nn.Module):  \n",
        "\n",
        "    # Método construtor (obs.: \"self\" permite a comunicação entre os móulos da classe)\n",
        "    def __init__(self, lista_idiomas, tamanho_do_corpus):\n",
        "        super(ModeloBOW, self).__init__()\n",
        "        self.linear = nn.Linear(tamanho_do_corpus, lista_idiomas)\n",
        "\n",
        "    # Feed Forward\n",
        "    def forward(self, bow_vec):\n",
        "        return F.log_softmax(self.linear(bow_vec), dim = 1)"
      ],
      "execution_count": null,
      "outputs": []
    },
    {
      "cell_type": "code",
      "metadata": {
        "id": "_4PqZOSRzd6_"
      },
      "source": [
        "# Função para criar o vetor BOW necessário para o treinamento\n",
        "def cria_bow_vetor(sentence, word_index):\n",
        "    word_vec = torch.zeros(tamanho_corpus)\n",
        "    for word in sentence:\n",
        "        word_vec[dict_vocab[word]] += 1\n",
        "    return word_vec.view(1, -1)"
      ],
      "execution_count": null,
      "outputs": []
    },
    {
      "cell_type": "code",
      "metadata": {
        "id": "7Xz7L07hzd7A"
      },
      "source": [
        "# Função para criar a variável target\n",
        "def cria_target(label, label_index):\n",
        "    return torch.LongTensor([label_index[label]])"
      ],
      "execution_count": null,
      "outputs": []
    },
    {
      "cell_type": "code",
      "metadata": {
        "id": "_CX67vgYzd7A"
      },
      "source": [
        "# Cria o modelo\n",
        "modelo = ModeloBOW(idiomas, tamanho_corpus)"
      ],
      "execution_count": null,
      "outputs": []
    },
    {
      "cell_type": "code",
      "metadata": {
        "id": "O-ZQeIDjzd7B"
      },
      "source": [
        "# Função de perda (loss)\n",
        "loss_function = nn.NLLLoss()"
      ],
      "execution_count": null,
      "outputs": []
    },
    {
      "cell_type": "code",
      "metadata": {
        "id": "tDKrawSrzd7B"
      },
      "source": [
        "# Otimizador (Stocastic Gradient Descent)\n",
        "optimizer = optim.SGD(modelo.parameters(), lr = 0.1)"
      ],
      "execution_count": null,
      "outputs": []
    },
    {
      "cell_type": "markdown",
      "metadata": {
        "id": "zjoHhUuSzd7C"
      },
      "source": [
        "### Treinamento do Modelo"
      ]
    },
    {
      "cell_type": "code",
      "metadata": {
        "id": "RhRM9MJYzd7D"
      },
      "source": [
        "# Loop de treinamentoo\n",
        "for epoch in range(100):\n",
        "    \n",
        "    for sentence, label in dados_treino:\n",
        "\n",
        "        modelo.zero_grad()\n",
        "\n",
        "        bow_vec = cria_bow_vetor(sentence, dict_vocab)\n",
        "        target = cria_target(label, label_index)\n",
        "\n",
        "        log_probs = modelo(bow_vec)\n",
        "\n",
        "        loss = loss_function(log_probs, target)\n",
        "        loss.backward()\n",
        "        optimizer.step()\n",
        "        \n",
        "    if epoch % 10 == 0:\n",
        "        print('Epoch: ', str(epoch+1),', Loss: ' + str(loss.item()))"
      ],
      "execution_count": null,
      "outputs": []
    },
    {
      "cell_type": "markdown",
      "metadata": {
        "id": "ogp0ep3Mzd7D"
      },
      "source": [
        "### Previsões e Avaliação do Modelo"
      ]
    },
    {
      "cell_type": "code",
      "metadata": {
        "id": "3i3tTF_lzd7E"
      },
      "source": [
        "# Função para previsões\n",
        "def faz_previsao(data):\n",
        "\n",
        "    with torch.no_grad():\n",
        "        sentence = data[0]\n",
        "        label = data[1]\n",
        "        bow_vec = cria_bow_vetor(sentence, dict_vocab)\n",
        "        log_probs = modelo(bow_vec)\n",
        "        print(sentence)\n",
        "        print('Probabilidade de ser o label: ' + label, 'é igual a: ',  np.exp(log_probs))"
      ],
      "execution_count": null,
      "outputs": []
    },
    {
      "cell_type": "code",
      "metadata": {
        "id": "rcULRohrzd7F"
      },
      "source": [
        "# Previsão com a primeira sentença de teste\n",
        "faz_previsao(dados_teste[0])"
      ],
      "execution_count": null,
      "outputs": []
    },
    {
      "cell_type": "code",
      "metadata": {
        "id": "5V3GSLk_zd7F"
      },
      "source": [
        "dados_teste[0]"
      ],
      "execution_count": null,
      "outputs": []
    },
    {
      "cell_type": "code",
      "metadata": {
        "id": "dtQ0gKafzd7I"
      },
      "source": [
        "# Previsão com a segunda sentença de teste\n",
        "faz_previsao(dados_teste[1])"
      ],
      "execution_count": null,
      "outputs": []
    },
    {
      "cell_type": "code",
      "metadata": {
        "id": "BvbOcB2uzd7J"
      },
      "source": [
        "dados_teste[1]"
      ],
      "execution_count": null,
      "outputs": []
    },
    {
      "cell_type": "markdown",
      "metadata": {
        "id": "0VfpqMdUzd7K"
      },
      "source": [
        "### Previsões com Novas Frases"
      ]
    },
    {
      "cell_type": "code",
      "metadata": {
        "id": "FpnkRzFezd7L"
      },
      "source": [
        "# Nova frase\n",
        "novas_frases = [(\"Tenho livros sobre viagens\".lower().split(), \"Portuguese\"),\n",
        "                (\"Estou escrevendo\".lower().split(), \"Portuguese\"),\n",
        "                (\"Gosto de biblioteca\".lower().split(), \"Portuguese\")]\n",
        "novas_frases"
      ],
      "execution_count": null,
      "outputs": []
    },
    {
      "cell_type": "code",
      "metadata": {
        "id": "EpdUyel2zd7M"
      },
      "source": [
        "faz_previsao(novas_frases[0])"
      ],
      "execution_count": null,
      "outputs": []
    },
    {
      "cell_type": "code",
      "metadata": {
        "id": "1kmSs6lizd7N"
      },
      "source": [
        "# Mensagem de erro porque a palavra \"escrevendo\" não pertence ao dicionário\r\n",
        "faz_previsao(novas_frases[1])"
      ],
      "execution_count": null,
      "outputs": []
    },
    {
      "cell_type": "code",
      "metadata": {
        "id": "UtPjzieOzd7N"
      },
      "source": [
        "faz_previsao(novas_frases[2])"
      ],
      "execution_count": null,
      "outputs": []
    },
    {
      "cell_type": "markdown",
      "metadata": {
        "id": "FWfxj-dLzd7O"
      },
      "source": [
        "# Fim"
      ]
    }
  ]
}
