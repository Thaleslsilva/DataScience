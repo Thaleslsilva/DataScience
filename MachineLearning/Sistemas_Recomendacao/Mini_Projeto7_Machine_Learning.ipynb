{
  "nbformat": 4,
  "nbformat_minor": 0,
  "metadata": {
    "colab": {
      "name": "Mini_Projeto7-Machine_Learning.ipynb",
      "provenance": [],
      "include_colab_link": true
    },
    "kernelspec": {
      "display_name": "Python 3",
      "language": "python",
      "name": "python3"
    },
    "language_info": {
      "codemirror_mode": {
        "name": "ipython",
        "version": 3
      },
      "file_extension": ".py",
      "mimetype": "text/x-python",
      "name": "python",
      "nbconvert_exporter": "python",
      "pygments_lexer": "ipython3",
      "version": "3.7.6"
    }
  },
  "cells": [
    {
      "cell_type": "markdown",
      "metadata": {
        "id": "view-in-github",
        "colab_type": "text"
      },
      "source": [
        "<a href=\"https://colab.research.google.com/github/Thaleslsilva/DataScience/blob/master/Mini_Projeto7_Machine_Learning.ipynb\" target=\"_parent\"><img src=\"https://colab.research.google.com/assets/colab-badge.svg\" alt=\"Open In Colab\"/></a>"
      ]
    },
    {
      "cell_type": "markdown",
      "metadata": {
        "id": "BXqVV3QrbmWA"
      },
      "source": [
        "## Mini-Projeto 7\n",
        "\n",
        "## Sistema de Recomendação de Filmes da Netflix - Previsões"
      ]
    },
    {
      "cell_type": "markdown",
      "metadata": {
        "id": "Qf0C7fhRbmV1"
      },
      "source": [
        "Este Jupyter Notebook é um bônus do Mini-Projeto 7. Aqui construímos um modelo de Machine Learning para nosso sistema de recomendação com o objetivo de prever a avaliação que o usuário dará a um filme. O modelo de Machine Learning será criado com o algoritmo XGBoost.\n",
        "\n",
        "Execute este Jupyter Notebook depois de executar o Jupyter **01-DSA-Cap15-Mini-Projeto7.ipynb** disponível no Capítulo 15 do curso de Machine Learning da DSA.\n",
        "\n",
        "Leia todos os comentários, inclua a função print() quando quiser compreender a saída de uma operação e estude todo o código usado neste trabalho.\n",
        "\n",
        "Bons estudos."
      ]
    },
    {
      "cell_type": "code",
      "metadata": {
        "id": "WC6lYfjWbmV8"
      },
      "source": [
        "# Versão da Linguagem Python\n",
        "from platform import python_version\n",
        "print('Versão da Linguagem Python Usada Neste Jupyter Notebook:', python_version())"
      ],
      "execution_count": null,
      "outputs": []
    },
    {
      "cell_type": "markdown",
      "metadata": {
        "id": "S4UrOPURbmWC"
      },
      "source": [
        "## Instalando e Carregando os Pacotes"
      ]
    },
    {
      "cell_type": "code",
      "metadata": {
        "id": "i5aQvkWjbmWD"
      },
      "source": [
        "# Para atualizar um pacote, execute o comando abaixo no terminal ou prompt de comando:\n",
        "# pip install -U nome_pacote\n",
        "\n",
        "# Para instalar a versão exata de um pacote, execute o comando abaixo no terminal ou prompt de comando:\n",
        "# pip install nome_pacote==versão_desejada\n",
        "\n",
        "# Depois de instalar ou atualizar o pacote, reinicie o jupyter notebook."
      ],
      "execution_count": null,
      "outputs": []
    },
    {
      "cell_type": "code",
      "metadata": {
        "id": "6f-NcwuYbmWI"
      },
      "source": [
        "# Instala o pacote watermark. \n",
        "# Esse pacote é usado para gravar as versões de outros pacotes usados neste jupyter notebook.\n",
        "!pip install -q -U watermark"
      ],
      "execution_count": null,
      "outputs": []
    },
    {
      "cell_type": "code",
      "metadata": {
        "id": "JugTs4JQbmWM"
      },
      "source": [
        "# Imports\n",
        "import os\n",
        "import random\n",
        "import numpy as np\n",
        "import pandas as pd\n",
        "import matplotlib\n",
        "import matplotlib.pyplot as plt\n",
        "import scipy\n",
        "from scipy import sparse\n",
        "import sklearn\n",
        "from sklearn.metrics.pairwise import cosine_similarity\n",
        "import xgboost as xgb\n",
        "from datetime import datetime"
      ],
      "execution_count": null,
      "outputs": []
    },
    {
      "cell_type": "code",
      "metadata": {
        "id": "ZVgEsi1obmWP"
      },
      "source": [
        "# Versões dos pacotes usados neste jupyter notebook\n",
        "%reload_ext watermark\n",
        "%watermark -a \"Data Science Academy\" --iversions"
      ],
      "execution_count": null,
      "outputs": []
    },
    {
      "cell_type": "markdown",
      "metadata": {
        "id": "GSq55EKnbmWT"
      },
      "source": [
        "## Preparação dos Dados\n",
        "\n",
        "Vamos trabalhar com amostras dos dados, caso contrário o Jupyter Notebook vai levar muitas horas para ser executado.\n",
        "\n",
        "A função abaixo será usada para extrair amostras de dados das matrizes esparsas criadas na parte 1 do Mini-Projeto."
      ]
    },
    {
      "cell_type": "code",
      "metadata": {
        "id": "oBOQj4nmxrqD"
      },
      "source": [
        "# Função para obter amostra da matriz esparsa\n",
        "def gera_amostra_matriz_esparsa(sparse_matrix, num_users, num_movies, path, verbose = True):\n",
        "\n",
        "    # Tupla: (row, col) e (rating) da matriz esparsa\n",
        "    row_ind, col_ind, ratings = sparse.find(sparse_matrix)\n",
        "    users = np.unique(row_ind)\n",
        "    movies = np.unique(col_ind)\n",
        "\n",
        "    # Random seed para reproduzir o processo aleatório\n",
        "    np.random.seed(15)\n",
        "    \n",
        "    # Amostras de usuários e filmes\n",
        "    sample_users = np.random.choice(users, num_users, replace = True)\n",
        "    sample_movies = np.random.choice(movies, num_movies, replace = True)\n",
        "    \n",
        "    # Gera a máscara booleana\n",
        "    mask = np.logical_and(np.isin(row_ind, sample_users), np.isin(col_ind, sample_movies))\n",
        "    \n",
        "    # Matriz esparsa com as amostras da matriz original\n",
        "    amostra_matriz_esparsa = sparse.csr_matrix((ratings[mask], (row_ind[mask], col_ind[mask])), \n",
        "                                               shape = (max(sample_users) + 1, max(sample_movies) + 1))\n",
        "    \n",
        "    # Salva em disco\n",
        "    print('Salvando em disco...')\n",
        "    sparse.save_npz(path, amostra_matriz_esparsa)\n",
        "    \n",
        "    if verbose:\n",
        "            print('Tarefa concluída.\\n')\n",
        "    \n",
        "    return amostra_matriz_esparsa"
      ],
      "execution_count": null,
      "outputs": []
    },
    {
      "cell_type": "markdown",
      "metadata": {
        "id": "0jLFR-p1xrqG"
      },
      "source": [
        "### Gerando Amostra de Dados de Treino"
      ]
    },
    {
      "cell_type": "code",
      "metadata": {
        "id": "l5dJ4yzVxrqH"
      },
      "source": [
        "%%time\n",
        "\n",
        "# Caminho onde está a matriz esparsa de treino gerada na Parte 1 do Mini-Projeto\n",
        "caminho_matriz_treino_original = \"dados/matriz_esparsa_treino.npz\"\n",
        "\n",
        "# Carregando a matriz esparsa\n",
        "matriz_esparsa_treino_loaded = sparse.load_npz(caminho_matriz_treino_original)\n",
        "print(\"Matriz Original Carregada.\")\n",
        "\n",
        "# Onde salvar a amostra\n",
        "path = 'dados/amostra_matriz_esparsa_treino.npz'\n",
        "\n",
        "# Obtemos avaliações de 1000 usuários a 100 filmes na matriz esparsa de treino\n",
        "amostra_matriz_esparsa_treino = gera_amostra_matriz_esparsa(matriz_esparsa_treino_loaded, \n",
        "                                                            num_users = 1000, \n",
        "                                                            num_movies = 100, \n",
        "                                                            path = path)"
      ],
      "execution_count": null,
      "outputs": []
    },
    {
      "cell_type": "markdown",
      "metadata": {
        "id": "fQJ8BE0IxrqJ"
      },
      "source": [
        "### Gerando Amostra de Dados de Teste"
      ]
    },
    {
      "cell_type": "code",
      "metadata": {
        "id": "8tPszXJ1xrqJ"
      },
      "source": [
        "%%time\n",
        "\n",
        "# Caminho onde está a matriz esparsa de treino gerada na Parte 1 do Mini-Projeto\n",
        "caminho_matriz_teste_original = \"dados/matriz_esparsa_teste.npz\"\n",
        "\n",
        "# Carregando a matriz de amostra, caso já exista\n",
        "matriz_esparsa_teste_loaded = sparse.load_npz(caminho_matriz_teste_original)\n",
        "print(\"Matriz Original Carregada.\")\n",
        "\n",
        "# Onde salvar a amostra\n",
        "path = 'dados/amostra_matriz_esparsa_teste.npz'\n",
        "\n",
        "# Obtemos avaliações de 200 usuários a 20 filmes na matriz esparsa de treino\n",
        "amostra_matriz_esparsa_teste = gera_amostra_matriz_esparsa(matriz_esparsa_teste_loaded, \n",
        "                                                           num_users = 200, \n",
        "                                                           num_movies = 20,\n",
        "                                                           path = path)"
      ],
      "execution_count": null,
      "outputs": []
    },
    {
      "cell_type": "code",
      "metadata": {
        "id": "wimT4xCFbmWg"
      },
      "source": [
        "# Resumo\n",
        "print('Número de avaliações na matriz com amostras de treino: {}'.format(amostra_matriz_esparsa_treino.count_nonzero()))\n",
        "print('Número de avaliações na matriz com amostras de teste: {}'.format(amostra_matriz_esparsa_teste.count_nonzero()))"
      ],
      "execution_count": null,
      "outputs": []
    },
    {
      "cell_type": "markdown",
      "metadata": {
        "id": "GJCbQLA_bmWi"
      },
      "source": [
        "Amostras criadas. Altere o número de usuários e número de filmes caso queira trabalhar com amostras maiores."
      ]
    },
    {
      "cell_type": "markdown",
      "metadata": {
        "id": "BgTx-m-cxrqM"
      },
      "source": [
        "### Métricas Extraídas dos Dados\n",
        "\n",
        "Vamos verificar algumas métricas a partir dos dados. Nosso modelo vai prever a avaliação do usuário ao filme."
      ]
    },
    {
      "cell_type": "code",
      "metadata": {
        "id": "Af8rljDExrqN"
      },
      "source": [
        "# Cria o dicionário\n",
        "amostra_medias_treino = dict()"
      ],
      "execution_count": null,
      "outputs": []
    },
    {
      "cell_type": "markdown",
      "metadata": {
        "id": "LByfpsXkbmWk"
      },
      "source": [
        "A função abaixo será usada para calcular a média de avaliações."
      ]
    },
    {
      "cell_type": "code",
      "metadata": {
        "id": "d-uar9mJbmWl"
      },
      "source": [
        "def calcula_media_ratings(sparse_matrix, of_users):\n",
        "    \n",
        "    # Média de avaliações\n",
        "    # 1 representa o eixo de usuários\n",
        "    # 0 representa o eixo de filmes\n",
        "    ax = 1 if of_users else 0 \n",
        "\n",
        "    # Soma das avaliações\n",
        "    sum_of_ratings = sparse_matrix.sum(axis=ax).A1\n",
        "    \n",
        "    # Matriz booleana de avaliações (se um usuário avaliou ou não um filme)\n",
        "    is_rated = sparse_matrix != 0\n",
        "    \n",
        "    # Número de avaliações de cada usuário ou filme\n",
        "    no_of_ratings = is_rated.sum(axis = ax).A1\n",
        "    \n",
        "    # Ids da matriz esparsa, u de usuário e m de movie\n",
        "    u,m = sparse_matrix.shape\n",
        "    \n",
        "    # Dicionário de usuários e suas avaliações\n",
        "    average_ratings = {i:sum_of_ratings[i] / no_of_ratings[i] \n",
        "                       for i in range(u if of_users else m) \n",
        "                       if no_of_ratings[i] != 0}\n",
        "\n",
        "    return average_ratings"
      ],
      "execution_count": null,
      "outputs": []
    },
    {
      "cell_type": "markdown",
      "metadata": {
        "id": "ZNMVuqWHxrqP"
      },
      "source": [
        "Média global das avaliações dos filmes:"
      ]
    },
    {
      "cell_type": "code",
      "metadata": {
        "id": "eJN92jujxrqQ"
      },
      "source": [
        "# Média global\n",
        "media_global = amostra_matriz_esparsa_treino.sum() / amostra_matriz_esparsa_treino.count_nonzero()\n",
        "amostra_medias_treino['global'] = media_global\n",
        "amostra_medias_treino"
      ],
      "execution_count": null,
      "outputs": []
    },
    {
      "cell_type": "markdown",
      "metadata": {
        "id": "A3ldVasnxrqS"
      },
      "source": [
        "Média de avaliação por usuário:"
      ]
    },
    {
      "cell_type": "code",
      "metadata": {
        "id": "iLBPu2ObxrqT",
        "scrolled": true
      },
      "source": [
        "# Calcula a média de avaliação dos usuários\n",
        "amostra_medias_treino['user'] = calcula_media_ratings(amostra_matriz_esparsa_treino, of_users = True)"
      ],
      "execution_count": null,
      "outputs": []
    },
    {
      "cell_type": "code",
      "metadata": {
        "id": "NdbBSitRbmWq"
      },
      "source": [
        "# Vamos extrair um dos usuários do dicionário de filmes (o objetivo aqui é apenas automatizar o processo)\n",
        "um_usuario = [a for a, b in amostra_medias_treino['user'].items()][0]\n",
        "um_usuario"
      ],
      "execution_count": null,
      "outputs": []
    },
    {
      "cell_type": "code",
      "metadata": {
        "id": "sBK4FAFXbmWr"
      },
      "source": [
        "# Print\n",
        "print('Média de Avaliação do Usuário ' + str(um_usuario) + ':', amostra_medias_treino['user'][um_usuario])"
      ],
      "execution_count": null,
      "outputs": []
    },
    {
      "cell_type": "markdown",
      "metadata": {
        "id": "qiVaPz6AxrqV"
      },
      "source": [
        "Média de avaliação por filme:"
      ]
    },
    {
      "cell_type": "code",
      "metadata": {
        "id": "q8QD09k4xrqV",
        "scrolled": true
      },
      "source": [
        "# Calcula a média de avaliação dos filmes\n",
        "amostra_medias_treino['movie'] =  calcula_media_ratings(amostra_matriz_esparsa_treino, of_users = False)"
      ],
      "execution_count": null,
      "outputs": []
    },
    {
      "cell_type": "code",
      "metadata": {
        "id": "xk7ExyeobmWt"
      },
      "source": [
        "# Vamos extrair um dos filmes do dicionário de filmes (o objetivo aqui é apenas automatizar o processo)\n",
        "um_filme = [a for a, b in amostra_medias_treino['movie'].items()][0]\n",
        "um_filme"
      ],
      "execution_count": null,
      "outputs": []
    },
    {
      "cell_type": "code",
      "metadata": {
        "id": "TbjOkalibmWu"
      },
      "source": [
        "# Pring\n",
        "print('Média de Avaliação do Filme ' + str(um_filme) + ':', amostra_medias_treino['movie'][um_filme])"
      ],
      "execution_count": null,
      "outputs": []
    },
    {
      "cell_type": "markdown",
      "metadata": {
        "id": "xVwLprg-xrqZ"
      },
      "source": [
        "## Formatando os Dados\n",
        "\n",
        "Iremos construir um modelo de regressão, uma vez que desejamos prever as avaliações (valores numéricos). Vamos preparar os dados de treino e teste nas células abaixo.\n",
        "\n",
        "Essas são as variáveis com as quais vamos construir o modelo:"
      ]
    },
    {
      "cell_type": "markdown",
      "metadata": {
        "id": "d8V2NsPDbmWv"
      },
      "source": [
        "Variáveis Preditoras (entrada):\n",
        "\n",
        "- **GAvg** : Média global das avaliações\n",
        "\n",
        "\n",
        "- **Avaliação de usuários semelhantes**:\n",
        "    - sur1, sur2, sur3, sur4, sur5 (5 principais usuários similares a cada usuário que avaliou um filme)\n",
        "    \n",
        "\n",
        "- **Filmes semelhantes avaliados por um usuário**:\n",
        "    - smr1, smr2, smr3, smr4, smr5 (5 principais filmes similares a cada filme avaliado)\n",
        "\n",
        "\n",
        "- **UAvg** : Média de avaliações dos usuários\n",
        "\n",
        "\n",
        "- **MAvg** : Média de avaliação do filme\n",
        "\n",
        "\n",
        "Variável Alvo (saída):\n",
        "\n",
        "- **rating** : Avaliação do filme dada por um usuário"
      ]
    },
    {
      "cell_type": "markdown",
      "metadata": {
        "id": "GZ7FYSibxrqc"
      },
      "source": [
        "### Preparando os Dados de Treino Para o Modelo de Regressão"
      ]
    },
    {
      "cell_type": "code",
      "metadata": {
        "id": "jMTXqVR3xrqd"
      },
      "source": [
        "# Extraindo os dados da matriz de amostras\n",
        "amostra_usuarios_treino, amostra_filmes_treino, amostra_avaliacoes_treino = sparse.find(amostra_matriz_esparsa_treino)"
      ],
      "execution_count": null,
      "outputs": []
    },
    {
      "cell_type": "markdown",
      "metadata": {
        "id": "-oXieIf7bmWx"
      },
      "source": [
        "A célula abaixo leva bastante tempo para ser executada."
      ]
    },
    {
      "cell_type": "code",
      "metadata": {
        "id": "Hr_gXr0ixrqh",
        "scrolled": true
      },
      "source": [
        "%%time\n",
        "\n",
        "# Verificamos se o arquivo já existe\n",
        "if os.path.isfile('dados/dados_treino_reg.csv'):\n",
        "    print(\"O arquivo já existe e não precisamos criar movamente...\" )\n",
        "else:\n",
        "    print('Preparando {} tuplas para o dataset..\\n'.format(len(amostra_medias_treino)))\n",
        "    with open('dados/dados_treino_reg.csv', mode = 'w') as reg_data_file:\n",
        "        count = 0\n",
        "        for (user, movie, rating) in zip(amostra_usuarios_treino, amostra_filmes_treino, amostra_avaliacoes_treino):\n",
        "             \n",
        "            ###### Avaliação de um \"filme\" por usuários similares ao usuário corrente ######\n",
        "            \n",
        "            # Calcula usuário similar ao usuário corrente        \n",
        "            user_sim = cosine_similarity(amostra_matriz_esparsa_treino[user], \n",
        "                                         amostra_matriz_esparsa_treino).ravel()\n",
        "            \n",
        "            # Obtém top users\n",
        "            top_sim_users = user_sim.argsort()[::-1][1:] \n",
        "            \n",
        "            # Obtém avaliações de usuários similares \n",
        "            top_ratings = amostra_matriz_esparsa_treino[top_sim_users, movie].toarray().ravel()\n",
        "            \n",
        "            # Top usuários similares até 5\n",
        "            top_sim_users_ratings = list(top_ratings[top_ratings != 0][:5])\n",
        "            top_sim_users_ratings.extend([amostra_medias_treino['movie'][movie]]*(5 - len(top_sim_users_ratings))) \n",
        "\n",
        "            ##### Avaliações por usuário para filmes similares ao filme corrente #####\n",
        "            \n",
        "            # Calcula filmes similares ao filme corrente       \n",
        "            movie_sim = cosine_similarity(amostra_matriz_esparsa_treino[:,movie].T, \n",
        "                                          amostra_matriz_esparsa_treino.T).ravel()\n",
        "            \n",
        "            # Top filmes\n",
        "            top_sim_movies = movie_sim.argsort()[::-1][1:] \n",
        "            \n",
        "            # Obtém avaliações do filme mais similar para o usuário corrente\n",
        "            top_ratings = amostra_matriz_esparsa_treino[user, top_sim_movies].toarray().ravel()\n",
        "            \n",
        "            # Top usuários similares até 5\n",
        "            top_sim_movies_ratings = list(top_ratings[top_ratings != 0][:5])\n",
        "            top_sim_movies_ratings.extend([amostra_medias_treino['user'][user]] * (5-len(top_sim_movies_ratings))) \n",
        "\n",
        "            ##### Prepara a linha que será armazenada no arquivo #####\n",
        "            row = list()\n",
        "            row.append(user)\n",
        "            row.append(movie)\n",
        "            \n",
        "            # Adicionamos outros atributos \n",
        "            row.append(amostra_medias_treino['global']) \n",
        "            row.extend(top_sim_users_ratings)\n",
        "            row.extend(top_sim_movies_ratings)\n",
        "            row.append(amostra_medias_treino['user'][user])\n",
        "            row.append(amostra_medias_treino['movie'][movie])\n",
        "\n",
        "            row.append(rating)\n",
        "            count = count + 1\n",
        "            \n",
        "            #if count == 10:\n",
        "            #    break\n",
        "\n",
        "            reg_data_file.write(','.join(map(str, row)))\n",
        "            reg_data_file.write('\\n')        \n",
        "            if (count)%10000 == 0:\n",
        "                print(\"Concluído para {} linhas----- {}\".format(count, datetime.now() - start))"
      ],
      "execution_count": null,
      "outputs": []
    },
    {
      "cell_type": "markdown",
      "metadata": {
        "id": "k3xJ8aWyxrqj"
      },
      "source": [
        "Carregamos o arquivo e colocamos em um dataframe."
      ]
    },
    {
      "cell_type": "code",
      "metadata": {
        "id": "oUs6s6AZxrqj"
      },
      "source": [
        "df_dados_treino_reg = pd.read_csv('dados/dados_treino_reg.csv', \n",
        "                               names = ['user', \n",
        "                                        'movie', \n",
        "                                        'GAvg', \n",
        "                                        'sur1', \n",
        "                                        'sur2', \n",
        "                                        'sur3', \n",
        "                                        'sur4', \n",
        "                                        'sur5',\n",
        "                                        'smr1', \n",
        "                                        'smr2', \n",
        "                                        'smr3', \n",
        "                                        'smr4', \n",
        "                                        'smr5', \n",
        "                                        'UAvg', \n",
        "                                        'MAvg', \n",
        "                                        'rating'], \n",
        "                               header = None)"
      ],
      "execution_count": null,
      "outputs": []
    },
    {
      "cell_type": "code",
      "metadata": {
        "id": "O3Dqa9cJbmW0"
      },
      "source": [
        "# Dados\n",
        "df_dados_treino_reg.head()"
      ],
      "execution_count": null,
      "outputs": []
    },
    {
      "cell_type": "markdown",
      "metadata": {
        "id": "r9vMR-Edxrqm"
      },
      "source": [
        "### Preparando os Dados de Teste Para o Modelo de Regressão\n",
        "\n",
        "O processo aqui é igual ao que fizemos com dados de treino."
      ]
    },
    {
      "cell_type": "code",
      "metadata": {
        "id": "M2QBhCcMxrqm"
      },
      "source": [
        "# Extraindo os dados da matriz de amostras\n",
        "amostra_usuarios_teste, amostra_filmes_teste, amostra_avaliacoes_teste = sparse.find(amostra_matriz_esparsa_teste)"
      ],
      "execution_count": null,
      "outputs": []
    },
    {
      "cell_type": "code",
      "metadata": {
        "id": "CLVejZA3xrqs"
      },
      "source": [
        "%%time\n",
        "\n",
        "if os.path.isfile('dados/dados_teste_reg.csv'):\n",
        "    print(\"O arquivo já existe e não precisamos criar movamente...\")\n",
        "else:\n",
        "\n",
        "    print('Preparando {} tuplas para o dataset..\\n'.format(len(amostra_avaliacoes_teste)))\n",
        "    with open('dados/dados_teste_reg.csv', mode='w') as reg_data_file:\n",
        "        count = 0 \n",
        "        for (user, movie, rating)  in zip(amostra_usuarios_teste, amostra_filmes_teste, amostra_avaliacoes_teste):\n",
        "            st = datetime.now()\n",
        "\n",
        "            # Similaridade de usuários\n",
        "            try:\n",
        "                user_sim = cosine_similarity(amostra_matriz_esparsa_treino[user], \n",
        "                                             amostra_matriz_esparsa_treino).ravel()\n",
        "                \n",
        "                top_sim_users = user_sim.argsort()[::-1][1:] \n",
        "                top_ratings = amostra_matriz_esparsa_treino[top_sim_users, movie].toarray().ravel()\n",
        "                top_sim_users_ratings = list(top_ratings[top_ratings != 0][:5])\n",
        "                top_sim_users_ratings.extend([amostra_medias_treino['movie'][movie]]*(5 - len(top_sim_users_ratings)))\n",
        "\n",
        "            except (IndexError, KeyError):\n",
        "                top_sim_users_ratings.extend([amostra_medias_treino['global']]*(5 - len(top_sim_users_ratings)))\n",
        "            except:\n",
        "                print(user, movie)\n",
        "                raise\n",
        "\n",
        "            # Similaridade de filmes\n",
        "            try:\n",
        "                movie_sim = cosine_similarity(amostra_matriz_esparsa_treino[:,movie].T, \n",
        "                                              amostra_matriz_esparsa_treino.T).ravel()\n",
        "                \n",
        "                top_sim_movies = movie_sim.argsort()[::-1][1:] \n",
        "                top_ratings = amostra_matriz_esparsa_treino[user, top_sim_movies].toarray().ravel()\n",
        "                top_sim_movies_ratings = list(top_ratings[top_ratings != 0][:5])\n",
        "                top_sim_movies_ratings.extend([amostra_medias_treino['user'][user]]*(5-len(top_sim_movies_ratings))) \n",
        "            except (IndexError, KeyError):\n",
        "                top_sim_movies_ratings.extend([amostra_medias_treino['global']]*(5-len(top_sim_movies_ratings)))\n",
        "            except :\n",
        "                raise\n",
        "\n",
        "            # Prepara os dados para gravar no arquivo\n",
        "            row = list()\n",
        "            row.append(user)\n",
        "            row.append(movie)\n",
        "            row.append(amostra_medias_treino['global']) \n",
        "            row.extend(top_sim_users_ratings)\n",
        "            row.extend(top_sim_movies_ratings)\n",
        "\n",
        "            try:\n",
        "                row.append(amostra_medias_treino['user'][user])\n",
        "            except KeyError:\n",
        "                row.append(amostra_medias_treino['global'])\n",
        "            except:\n",
        "                raise\n",
        "\n",
        "            try:\n",
        "                row.append(amostra_medias_treino['movie'][movie])\n",
        "            except KeyError:\n",
        "                row.append(amostra_medias_treino['global'])\n",
        "            except:\n",
        "                raise\n",
        "\n",
        "            row.append(rating)\n",
        "            \n",
        "            count = count + 1\n",
        "            \n",
        "            #if count == 5:\n",
        "            #    break\n",
        "    \n",
        "            reg_data_file.write(','.join(map(str, row)))\n",
        "            reg_data_file.write('\\n')        \n",
        "            if (count)%1000 == 0:\n",
        "                print(\"Concluído em {} linhas----- {}\".format(count, datetime.now() - start))"
      ],
      "execution_count": null,
      "outputs": []
    },
    {
      "cell_type": "markdown",
      "metadata": {
        "id": "RgiFyKukxrqu"
      },
      "source": [
        "Carregamos o arquivo e colocamos em um dataframe."
      ]
    },
    {
      "cell_type": "code",
      "metadata": {
        "id": "7mhv5Rztxrqv"
      },
      "source": [
        "# Gera o dataset de teste\n",
        "df_dados_teste_reg = pd.read_csv('dados/dados_teste_reg.csv', names = ['user', \n",
        "                                                                       'movie', \n",
        "                                                                       'GAvg', \n",
        "                                                                       'sur1', \n",
        "                                                                       'sur2', \n",
        "                                                                       'sur3', \n",
        "                                                                       'sur4', \n",
        "                                                                       'sur5',\n",
        "                                                                       'smr1', \n",
        "                                                                       'smr2', \n",
        "                                                                       'smr3', \n",
        "                                                                       'smr4', \n",
        "                                                                       'smr5',\n",
        "                                                                       'UAvg', \n",
        "                                                                       'MAvg', \n",
        "                                                                       'rating'], \n",
        "                                 header = None)"
      ],
      "execution_count": null,
      "outputs": []
    },
    {
      "cell_type": "code",
      "metadata": {
        "id": "q4JwdbV9bmW5"
      },
      "source": [
        "df_dados_teste_reg.head()"
      ],
      "execution_count": null,
      "outputs": []
    },
    {
      "cell_type": "markdown",
      "metadata": {
        "id": "ZzgDaBL_xrq8"
      },
      "source": [
        "## Construindo o Modelo de Machine Learning\n",
        "\n",
        "A última etapa do trabalho é construir, treinar e avaliar o modelo."
      ]
    },
    {
      "cell_type": "code",
      "metadata": {
        "id": "9sKjPQMExrq9"
      },
      "source": [
        "# Dicionários para avaliação do modelo\n",
        "models_evaluation_train = dict()\n",
        "models_evaluation_test = dict()"
      ],
      "execution_count": null,
      "outputs": []
    },
    {
      "cell_type": "markdown",
      "metadata": {
        "id": "Cg4ii0eRxrrB"
      },
      "source": [
        "Abaixo algumas funções para executar o modelo."
      ]
    },
    {
      "cell_type": "code",
      "metadata": {
        "id": "JQ8wplwZbmW8"
      },
      "source": [
        "# Função para o cálculo do erro do modelo\n",
        "def calcula_metricas(y_true, y_pred):\n",
        "    rmse = np.sqrt(np.mean([ (y_true[i] - y_pred[i])**2 for i in range(len(y_pred)) ]))\n",
        "    mape = np.mean(np.abs( (y_true - y_pred)/y_true )) * 100\n",
        "    return rmse, mape"
      ],
      "execution_count": null,
      "outputs": []
    },
    {
      "cell_type": "code",
      "metadata": {
        "id": "JafzdcJ6bmW9"
      },
      "source": [
        "# Função para treino e teste do modelo\n",
        "def executa_modelo_xgboost(modelo, x_train, y_train, x_test, y_test, verbose = True):\n",
        "\n",
        "    # Dicionários\n",
        "    train_results = dict()\n",
        "    test_results = dict()\n",
        "    \n",
        "    # Treinamento do modelo\n",
        "    print('Treinando o modelo..')\n",
        "    start = datetime.now()\n",
        "    modelo.fit(x_train, y_train, eval_metric = 'rmse')\n",
        "    print('Concluído. Tempo total: {}\\n'.format(datetime.now() - start))\n",
        "\n",
        "    # Calculando o erro do modelo nos dados de treino\n",
        "    print('Calculando as Métricas com Dados de Treino.')\n",
        "    start = datetime.now()\n",
        "    y_train_pred = modelo.predict(x_train)\n",
        "    rmse_train, mape_train = calcula_metricas(y_train.values, y_train_pred)\n",
        "    \n",
        "    # Grava os resultados\n",
        "    train_results = {'rmse': rmse_train, 'mape' : mape_train, 'previsoes' : y_train_pred}\n",
        "    \n",
        "    if verbose:\n",
        "        print('\\nErro do Modelo em Dados de Treino')\n",
        "        print('-'*30)\n",
        "        print('RMSE : ', rmse_train)\n",
        "        print('MAPE : ', mape_train)\n",
        "        \n",
        "    # Avaliando o modelo com dados de teste\n",
        "    print('\\nAvaliando o modelo com dados de teste.')\n",
        "    y_test_pred = modelo.predict(x_test) \n",
        "    rmse_test, mape_test = calcula_metricas(y_true = y_test.values, y_pred = y_test_pred)\n",
        "    \n",
        "    # Grava os resultados\n",
        "    test_results = {'rmse': rmse_test, 'mape' : mape_test, 'previsoes':y_test_pred}\n",
        "    \n",
        "    if verbose:\n",
        "        print('\\nErro do Modelo em Dados de Teste')\n",
        "        print('-'*30)\n",
        "        print('RMSE : ', rmse_test)\n",
        "        print('MAPE : ', mape_test)\n",
        "        \n",
        "    return train_results, test_results"
      ],
      "execution_count": null,
      "outputs": []
    },
    {
      "cell_type": "code",
      "metadata": {
        "id": "GxB5Q4-CbmW9"
      },
      "source": [
        "# Seed\n",
        "my_seed = 15\n",
        "random.seed(my_seed)\n",
        "np.random.seed(my_seed)"
      ],
      "execution_count": null,
      "outputs": []
    },
    {
      "cell_type": "markdown",
      "metadata": {
        "id": "Jh6CNDb1xrrI"
      },
      "source": [
        "## Treinamento do Modelo"
      ]
    },
    {
      "cell_type": "code",
      "metadata": {
        "id": "MhAMrsrgbmW_"
      },
      "source": [
        "# Prepara os dados de treino\n",
        "x_treino = df_dados_treino_reg.drop(['user', 'movie', 'rating'], axis = 1)\n",
        "y_treino = df_dados_treino_reg['rating']"
      ],
      "execution_count": null,
      "outputs": []
    },
    {
      "cell_type": "code",
      "metadata": {
        "id": "KsWgP7K6bmW_"
      },
      "source": [
        "# Prepara os dados de teste\n",
        "x_teste = df_dados_teste_reg.drop(['user', 'movie', 'rating'], axis = 1)\n",
        "y_teste = df_dados_teste_reg['rating']"
      ],
      "execution_count": null,
      "outputs": []
    },
    {
      "cell_type": "code",
      "metadata": {
        "id": "Pa2Tsq49bmW_"
      },
      "source": [
        "# Cria o modelo de regressão com 100 estimadores\n",
        "modelo_xgb = xgb.XGBRegressor(silent = False, random_state = 15, n_estimators = 100)"
      ],
      "execution_count": null,
      "outputs": []
    },
    {
      "cell_type": "code",
      "metadata": {
        "id": "JfI5rFu2bmXA"
      },
      "source": [
        "# Treinamento do modelo\n",
        "train_results, test_results = executa_modelo_xgboost(modelo_xgb, x_treino, y_treino, x_teste, y_teste)"
      ],
      "execution_count": null,
      "outputs": []
    },
    {
      "cell_type": "code",
      "metadata": {
        "id": "SsMJWA7LbmXA"
      },
      "source": [
        "# Armazena os resultados da avaliação do modelo\n",
        "models_evaluation_train['modelo_xgb'] = train_results\n",
        "models_evaluation_test['modelo_xgb'] = test_results"
      ],
      "execution_count": null,
      "outputs": []
    },
    {
      "cell_type": "code",
      "metadata": {
        "id": "DoxUdAnFxrrK"
      },
      "source": [
        "# Variáveis mais importantes para o modelo\n",
        "xgb.plot_importance(modelo_xgb)\n",
        "plt.show()"
      ],
      "execution_count": null,
      "outputs": []
    },
    {
      "cell_type": "markdown",
      "metadata": {
        "id": "DWm7knFrxrrO"
      },
      "source": [
        "Além de construir o modelo também identificamos as variáveis mais relevantes. Observe que não há surpresa. As avaliações de usuários são determinantes para recomendar os filmes avaliados para outros usuários."
      ]
    },
    {
      "cell_type": "markdown",
      "metadata": {
        "id": "Yd0ye7O1xrsR"
      },
      "source": [
        "## Salvando o Resultado"
      ]
    },
    {
      "cell_type": "code",
      "metadata": {
        "id": "DxsS3JKnxrsS",
        "scrolled": false
      },
      "source": [
        "# Salva os resultados em disco\n",
        "pd.DataFrame(models_evaluation_test).to_csv('dados/resultado.csv')\n",
        "models = pd.read_csv('dados/resultado.csv', index_col = 0)\n",
        "models.loc['rmse'].sort_values()"
      ],
      "execution_count": null,
      "outputs": []
    },
    {
      "cell_type": "markdown",
      "metadata": {
        "id": "AIB4qizhbmXD"
      },
      "source": [
        "# Fim"
      ]
    }
  ]
}
