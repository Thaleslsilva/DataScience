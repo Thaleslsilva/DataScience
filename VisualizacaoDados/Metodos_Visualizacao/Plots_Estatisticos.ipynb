{
  "nbformat": 4,
  "nbformat_minor": 0,
  "metadata": {
    "kernelspec": {
      "display_name": "Python 3",
      "language": "python",
      "name": "python3"
    },
    "language_info": {
      "codemirror_mode": {
        "name": "ipython",
        "version": 3
      },
      "file_extension": ".py",
      "mimetype": "text/x-python",
      "name": "python",
      "nbconvert_exporter": "python",
      "pygments_lexer": "ipython3",
      "version": "3.7.6"
    },
    "papermill": {
      "duration": 53.693134,
      "end_time": "2020-08-15T05:43:15.958021",
      "environment_variables": {},
      "exception": null,
      "input_path": "__notebook__.ipynb",
      "output_path": "__notebook__.ipynb",
      "parameters": {},
      "start_time": "2020-08-15T05:42:22.264887",
      "version": "2.1.0"
    },
    "colab": {
      "name": "Plots_Estatisticos.ipynb",
      "provenance": [],
      "collapsed_sections": [],
      "include_colab_link": true
    }
  },
  "cells": [
    {
      "cell_type": "markdown",
      "metadata": {
        "id": "view-in-github",
        "colab_type": "text"
      },
      "source": [
        "<a href=\"https://colab.research.google.com/github/Thaleslsilva/DataScience/blob/master/Plots_Estatisticos.ipynb\" target=\"_parent\"><img src=\"https://colab.research.google.com/assets/colab-badge.svg\" alt=\"Open In Colab\"/></a>"
      ]
    },
    {
      "cell_type": "markdown",
      "metadata": {
        "id": "JemtKi90W5nd"
      },
      "source": [
        "# Exemplos de Plots Estatísticos"
      ]
    },
    {
      "cell_type": "markdown",
      "metadata": {
        "papermill": {
          "duration": 0.028236,
          "end_time": "2020-08-15T05:42:33.272312",
          "exception": false,
          "start_time": "2020-08-15T05:42:33.244076",
          "status": "completed"
        },
        "tags": [],
        "id": "tTVympEZW5ng"
      },
      "source": [
        "### Pacotes Python Para Manipulação de Dados e Visualização"
      ]
    },
    {
      "cell_type": "code",
      "metadata": {
        "id": "mCP6-kcDW5nh"
      },
      "source": [
        "# Para atualizar um pacote, execute o comando abaixo no terminal ou prompt de comando:\n",
        "# pip install -U nome_pacote\n",
        "\n",
        "# Para instalar a versão exata de um pacote, execute o comando abaixo no terminal ou prompt de comando:\n",
        "# !pip install nome_pacote==versão_desejada\n",
        "\n",
        "# Depois de instalar ou atualizar o pacote, reinicie o jupyter notebook.\n",
        "\n",
        "# Instala o pacote watermark. \n",
        "# Esse pacote é usado para gravar as versões de outros pacotes usados neste jupyter notebook.\n",
        "!pip install -q -U watermark"
      ],
      "execution_count": null,
      "outputs": []
    },
    {
      "cell_type": "code",
      "metadata": {
        "execution": {
          "iopub.execute_input": "2020-08-15T05:42:33.335573Z",
          "iopub.status.busy": "2020-08-15T05:42:33.334762Z",
          "iopub.status.idle": "2020-08-15T05:42:35.988244Z",
          "shell.execute_reply": "2020-08-15T05:42:35.987118Z"
        },
        "papermill": {
          "duration": 2.687594,
          "end_time": "2020-08-15T05:42:35.988384",
          "exception": false,
          "start_time": "2020-08-15T05:42:33.300790",
          "status": "completed"
        },
        "tags": [],
        "id": "1OSvnudQW5nj"
      },
      "source": [
        "# Manipulação de Dados\n",
        "import numpy as np\n",
        "import pandas as pd\n",
        "\n",
        "# Plotly\n",
        "import plotly.express as px\n",
        "import plotly.graph_objects as go\n",
        "import plotly.figure_factory as ff\n",
        "from plotly.colors import n_colors\n",
        "from plotly.subplots import make_subplots"
      ],
      "execution_count": null,
      "outputs": []
    },
    {
      "cell_type": "code",
      "metadata": {
        "id": "TYdWCVirW5nk"
      },
      "source": [
        "# Versões dos pacotes usados neste jupyter notebook\n",
        "%reload_ext watermark\n",
        "%watermark -a \"Thales de Lima Silva\" --iversions"
      ],
      "execution_count": null,
      "outputs": []
    },
    {
      "cell_type": "markdown",
      "metadata": {
        "id": "MmWFnt3eW5nn"
      },
      "source": [
        "## Carregando os Dados"
      ]
    },
    {
      "cell_type": "code",
      "metadata": {
        "id": "5RD8VfvDW5no"
      },
      "source": [
        "# Carrega os dados\n",
        "campus = pd.read_csv('https://raw.githubusercontent.com/Thaleslsilva/DataScience/master/VisualizacaoDados/Metodos_Visualizacao/dados/factors-affecting-campus-placement-Placement_Data_Full_Class.csv')\n",
        "#campus.head()"
      ],
      "execution_count": null,
      "outputs": []
    },
    {
      "cell_type": "code",
      "metadata": {
        "id": "4NV9ebZrW5np"
      },
      "source": [
        "# Carrega os dados\n",
        "house = pd.read_csv(\"https://raw.githubusercontent.com/Thaleslsilva/DataScience/master/VisualizacaoDados/Metodos_Visualizacao/dados/house-prices-advanced-regression-techniques-train.csv\")\n",
        "#house.head()"
      ],
      "execution_count": null,
      "outputs": []
    },
    {
      "cell_type": "code",
      "metadata": {
        "id": "_I67AikIW5nr"
      },
      "source": [
        "# Carrega os dados\n",
        "world = pd.read_csv('https://raw.githubusercontent.com/Thaleslsilva/DataScience/master/VisualizacaoDados/Metodos_Visualizacao/dados/world-university-rankings-cwurData.csv')\n",
        "#world.head()"
      ],
      "execution_count": null,
      "outputs": []
    },
    {
      "cell_type": "code",
      "metadata": {
        "id": "gRGyU33PW5ns"
      },
      "source": [
        "# Carrega os dados\n",
        "google = pd.read_csv(\"https://raw.githubusercontent.com/Thaleslsilva/DataScience/master/VisualizacaoDados/Metodos_Visualizacao/dados/google-play-store-apps-googleplaystore.csv\")\n",
        "#google.head()"
      ],
      "execution_count": null,
      "outputs": []
    },
    {
      "cell_type": "markdown",
      "metadata": {
        "id": "lC9UKZl0W5nt"
      },
      "source": [
        "### Histograma\n",
        "**Objetivo**: Exibir distribuição de uma variável contínua.\n",
        "\n",
        "Qual é a distribuição salarial dos graduados em Computação?"
      ]
    },
    {
      "cell_type": "code",
      "metadata": {
        "id": "ww12zaOoW5nu"
      },
      "source": [
        "# Prepara os dados\n",
        "campus_computer = campus[campus['degree_t']=='Comm&Mgmt'].dropna()['salary']\n",
        "\n",
        "# Figura\n",
        "fig = go.Figure(data = [go.Histogram(x = campus_computer, \n",
        "                                     marker_color = \"orange\",\n",
        "                                     xbins = dict(start = 200000, end = 1000000,  size = 10000))])\n",
        "\n",
        "# Layout\n",
        "fig.update_layout(title = \"Distribuição de Salários Para Graduados em Computação\",\n",
        "                  xaxis_title = \"Salário\",\n",
        "                  yaxis_title = \"Frequência\")\n",
        "\n",
        "# Gráfico\n",
        "fig.show()"
      ],
      "execution_count": null,
      "outputs": []
    },
    {
      "cell_type": "markdown",
      "metadata": {
        "id": "SHLdgFsYW5n8"
      },
      "source": [
        "### Histograma Normalizado\n",
        "**Objetivo**: Exibir distribuição de uma variável contínua.\n",
        "\n",
        "Qual a distribuição salarial dos graduados em Ciência e Tecnologia de forma normalizada?"
      ]
    },
    {
      "cell_type": "code",
      "metadata": {
        "id": "z_8sGXhHW5n9"
      },
      "source": [
        "# Prepara os dados\n",
        "campus_science = campus[campus['degree_t']=='Sci&Tech']['salary']\n",
        "\n",
        "# Figura\n",
        "fig = go.Figure(data = [go.Histogram(x = campus_science,\n",
        "                                     histnorm = 'probability',\n",
        "                                     marker_color = \"magenta\")])\n",
        "\n",
        "# Layout\n",
        "fig.update_layout(title = \"Distribuição de Salários Para Graduados em Ciências\",\n",
        "                  xaxis_title = \"Salário\",\n",
        "                  yaxis_title = \"Frequência\")\n",
        "\n",
        "# Gráfico\n",
        "fig.show()"
      ],
      "execution_count": null,
      "outputs": []
    },
    {
      "cell_type": "markdown",
      "metadata": {
        "id": "IuMaZEqwW5n_"
      },
      "source": [
        "### Histogramas Sobrepostos\n",
        "**Objetivo**: Exibir a distribuição de uma variável contínua para diferentes grupos.\n",
        "\n",
        "Qual é a distribuição percentual de graduados em Computação e Ciências de forma sobreposta?"
      ]
    },
    {
      "cell_type": "code",
      "metadata": {
        "id": "XG_jGerKW5oA"
      },
      "source": [
        "# Prepara os dados\n",
        "per_com = campus[campus['degree_t']=='Comm&Mgmt']['degree_p']\n",
        "per_sci = campus[campus['degree_t']=='Sci&Tech']['degree_p']\n",
        "\n",
        "# Figura\n",
        "fig = go.Figure()\n",
        "\n",
        "# Adiciona os historamas\n",
        "fig.add_trace(go.Histogram(x = per_com, marker_color = \"green\", name = \"Graduados em Computação\"))\n",
        "fig.add_trace(go.Histogram(x = per_sci, marker_color = \"orange\", name = \"Graduados em Ciências\"))\n",
        "\n",
        "# Sobreposição dos histogramas\n",
        "fig.update_layout(barmode = 'overlay')\n",
        "\n",
        "# Reduz a opacidade dos histogramas\n",
        "fig.update_traces(opacity = 0.74)\n",
        "\n",
        "# Layout\n",
        "fig.update_layout(title = \"Distribuição da Porcentagem de Graduados em Computação e Ciências\",\n",
        "                  xaxis_title = \"Percentual\",\n",
        "                  yaxis_title = \"Frequência\")\n",
        "\n",
        "# Gráfico\n",
        "fig.show()"
      ],
      "execution_count": null,
      "outputs": []
    },
    {
      "cell_type": "markdown",
      "metadata": {
        "id": "ZRBfhhiXW5oC"
      },
      "source": [
        "### Histogramas Empilhados\n",
        "**Objetivo**: Exibir a distribuição de uma variável contínua para diferentes grupos.\n",
        "\n",
        "Mesmo gráfico anterior, mas agora em formato empilhado."
      ]
    },
    {
      "cell_type": "code",
      "metadata": {
        "id": "_f5L_5YHW5oD"
      },
      "source": [
        "# Figura\n",
        "fig = go.Figure()\n",
        "\n",
        "# Histogramas\n",
        "fig.add_trace(go.Histogram(x = per_com, marker_color = \"green\", name = \"Graduados em Computação\"))\n",
        "fig.add_trace(go.Histogram(x = per_sci, marker_color = \"orange\", name = \"Graduados em Ciências\"))\n",
        "\n",
        "# Stack \n",
        "fig.update_layout(barmode='stack')\n",
        "\n",
        "# Redução da opacidade\n",
        "fig.update_traces(opacity = 0.73)\n",
        "\n",
        "# Layout\n",
        "fig.update_layout(title = \"Distribuição da Porcentagem de Graduados em Computação e Ciências\",\n",
        "                  xaxis_title = \"Percentual\",\n",
        "                  yaxis_title = \"Frequência\")\n",
        "\n",
        "# Gráfico\n",
        "fig.show()"
      ],
      "execution_count": null,
      "outputs": []
    },
    {
      "cell_type": "markdown",
      "metadata": {
        "id": "KoE1djf6W5oE"
      },
      "source": [
        "## Distplot\n",
        "**Objetivo**: Exibir distribuição de uma variável contínua.\n",
        "\n",
        "Qual é a distribuição de preços para casa com nota de avaliação igual a 4?"
      ]
    },
    {
      "cell_type": "code",
      "metadata": {
        "id": "cxs9mqcrW5oF"
      },
      "source": [
        "# Preparação dos dados\n",
        "class_1 = house[house['OverallCond']==4]['SalePrice']\n",
        "\n",
        "# Dados para o histograma\n",
        "hist_data = [class_1]\n",
        "\n",
        "# Labels\n",
        "group_labels = ['Distribuição de Preços Para Casas com Avaliação 4']\n",
        "\n",
        "# Cores\n",
        "colors = ['green']\n",
        "\n",
        "# Figura\n",
        "fig = ff.create_distplot(hist_data, group_labels, colors = colors, bin_size = [10000])\n",
        "\n",
        "# Gráfico\n",
        "fig.show()"
      ],
      "execution_count": null,
      "outputs": []
    },
    {
      "cell_type": "markdown",
      "metadata": {
        "id": "_QiE7WeOW5oG"
      },
      "source": [
        "### Distplot Múltiplo\n",
        "**Objetivo**: Exibir distribuição de uma variável contínua para várias categorias.\n",
        "\n",
        "Mesmo gráfico anterior para as avaliações 4, 5 e 6."
      ]
    },
    {
      "cell_type": "code",
      "metadata": {
        "id": "rqZANhS4W5oH"
      },
      "source": [
        "# Preparação dos dados\n",
        "class_1 = house[house['OverallCond']==4]['SalePrice']\n",
        "class_2 = house[house['OverallCond']==5]['SalePrice']\n",
        "class_3 = house[house['OverallCond']==6]['SalePrice']\n",
        "\n",
        "# Dados para cada histograma\n",
        "hist_data = [class_1, class_2, class_3] \n",
        "\n",
        "# Labels\n",
        "group_labels = ['Distribuição de Preços Para Casas com Avaliação 4',\n",
        "                'Distribuição de Preços Para Casas com Avaliação 5',\n",
        "                'Distribuição de Preços Para Casas com Avaliação 6']\n",
        "\n",
        "# Cores\n",
        "colors = ['blue', \"green\", \"magenta\"]\n",
        "\n",
        "# Figura\n",
        "fig = ff.create_distplot(hist_data, group_labels, colors = colors, bin_size = [10000,10000,10000])\n",
        "\n",
        "# Gráfico\n",
        "fig.show()"
      ],
      "execution_count": null,
      "outputs": []
    },
    {
      "cell_type": "markdown",
      "metadata": {
        "id": "lJkLuPeFW5oK"
      },
      "source": [
        "### Distplot Curve\n",
        "**Objetivo**: Exibe a distribuição de uma variável contínua para várias categorias com curva em vez de barra.\n",
        "\n",
        "Mesmo gráfico anterior somente com as linhas."
      ]
    },
    {
      "cell_type": "code",
      "metadata": {
        "id": "4TepxlMkW5oL"
      },
      "source": [
        "# Dados para cada histograma\n",
        "hist_data = [class_1, class_2, class_3] \n",
        "\n",
        "# Labels\n",
        "group_labels = ['Distribuição de Preços Para Casas com Avaliação 4',\n",
        "                'Distribuição de Preços Para Casas com Avaliação 5',\n",
        "                'Distribuição de Preços Para Casas com Avaliação 6']\n",
        "\n",
        "# Cores\n",
        "colors = ['blue', \"green\", \"magenta\"]\n",
        "\n",
        "# Figura\n",
        "fig = ff.create_distplot(hist_data, group_labels, show_hist = False, colors = colors, bin_size = [10000,10000,10000])\n",
        "\n",
        "# Gráfico\n",
        "fig.show()"
      ],
      "execution_count": null,
      "outputs": []
    },
    {
      "cell_type": "markdown",
      "metadata": {
        "id": "p_6Xl0AbW5oM"
      },
      "source": [
        "### Density Contour\n",
        "**Objetivo**: Exibe 2 histogramas e um scatter plot na mesma área de plotagem.\n",
        "\n",
        "Relação das variáveis tamanho do lote e preço da casa."
      ]
    },
    {
      "cell_type": "code",
      "metadata": {
        "id": "EzrhYc8XW5oP"
      },
      "source": [
        "# Prepara os dados\n",
        "cond_8 = house[house['OverallQual']==8]\n",
        "\n",
        "# x e y\n",
        "x = cond_8['LotArea']\n",
        "y = cond_8['SalePrice']\n",
        "\n",
        "# Figura\n",
        "fig = go.Figure()\n",
        "\n",
        "# Countour\n",
        "fig.add_trace(go.Histogram2dContour(x = x,\n",
        "                                    y = y,\n",
        "                                    colorscale = 'gray',\n",
        "                                    reversescale = True,\n",
        "                                    xaxis = 'x',\n",
        "                                    yaxis = 'y'))\n",
        "\n",
        "# Scatter Plot\n",
        "fig.add_trace(go.Scatter(x = x,\n",
        "                         y = y,\n",
        "                         xaxis = 'x',\n",
        "                         yaxis = 'y',\n",
        "                         mode = 'markers',\n",
        "                         marker = dict(color = \"red\", size = 3)))\n",
        "\n",
        "# Histograma\n",
        "fig.add_trace(go.Histogram(y = y,\n",
        "                           xaxis = 'x2',\n",
        "                           marker = dict(color = \"blue\")))\n",
        "\n",
        "# Histograma\n",
        "fig.add_trace(go.Histogram(x = x,\n",
        "                           yaxis = 'y2',\n",
        "                           marker = dict(color = \"blue\")))\n",
        "\n",
        "# Layout\n",
        "fig.update_layout(autosize = False,\n",
        "                  xaxis = dict(zeroline = False, domain = [0,0.85], showgrid = False),\n",
        "                  yaxis = dict(zeroline = False, domain = [0,0.85], showgrid = False),\n",
        "                  xaxis2 = dict(zeroline = False, domain = [0.85,1], showgrid = False),\n",
        "                  yaxis2 = dict(zeroline = False, domain = [0.85,1], showgrid = False),\n",
        "                  height = 600,\n",
        "                  width = 600,\n",
        "                  bargap = 0,\n",
        "                  hovermode = 'closest',\n",
        "                  showlegend = False,\n",
        "                  title_text = \"Density Contour e Tamanho e Preço Para Casas de Avaliação Igual a 8\", title_x = 0.5)\n",
        "\n",
        "# Gráfico\n",
        "fig.show()"
      ],
      "execution_count": null,
      "outputs": []
    },
    {
      "cell_type": "markdown",
      "metadata": {
        "id": "z-s3FwURW5oS"
      },
      "source": [
        "### Box Plot\n",
        "**Objetivo**: Exibir distribuição de uma variável contínua.\n",
        "\n",
        "Como a pontuação é distribuída para diferentes universidades na Alemanha?"
      ]
    },
    {
      "cell_type": "code",
      "metadata": {
        "id": "-uk-R1zhW5oU"
      },
      "source": [
        "# Prepara os dados\n",
        "germany_score = world[world['country']==\"Germany\"]['score']\n",
        "\n",
        "# Figura\n",
        "fig = go.Figure(go.Box(y = germany_score, name = \"Pontuação\"))\n",
        "\n",
        "# Layout\n",
        "fig.update_layout(title = \"Distribuição de Pontuação das Universidades da Alemanha\")\n",
        "\n",
        "# Gráfico\n",
        "fig.show()"
      ],
      "execution_count": null,
      "outputs": []
    },
    {
      "cell_type": "markdown",
      "metadata": {
        "id": "NeoOLvdxW5oV"
      },
      "source": [
        "### Box Plot Agrupado\n",
        "**Objetivo**: Exibe a distribuição de uma variável contínua para dois ou mais grupos.\n",
        "\n",
        "Compare as avaliações das universidades no Canadá e no Brasil."
      ]
    },
    {
      "cell_type": "code",
      "metadata": {
        "id": "Zfzwr2jpW5oX"
      },
      "source": [
        "# Prepara os dados\n",
        "score_canada = world[world['country']==\"Canada\"]['score']\n",
        "score_brazil = world[world['country']==\"Brazil\"]['score']\n",
        "\n",
        "# Figura\n",
        "fig = go.Figure()\n",
        "\n",
        "# Adiciona o box plot do Canadá\n",
        "fig.add_trace(go.Box(y = score_canada, marker_color = \"red\", name = \"Avaliação das Universidades do Canadá\"))\n",
        "\n",
        "# Adiciona o box plot do Brasil\n",
        "fig.add_trace(go.Box(y = score_brazil, marker_color = \"green\", name = \"Avaliação das Universidades do Brasil\"))\n",
        "\n",
        "# Layout\n",
        "fig.update_layout(title = \"Distribuição das Avaliações das Universidades no Canadá e no Brasil\")\n",
        "\n",
        "# Gráfico\n",
        "fig.show()"
      ],
      "execution_count": null,
      "outputs": []
    },
    {
      "cell_type": "markdown",
      "metadata": {
        "id": "yuws6tz1W5oY"
      },
      "source": [
        "### Box Plot com Média e Desvio Padrão\n",
        "**Objetivo**: Exibir a distribuição de uma variável contínua para dois ou mais grupos com média e desvio padrão.\n",
        "\n",
        "Como é a distribuição de classificação para as categorias de aplicativos da Play Store?"
      ]
    },
    {
      "cell_type": "code",
      "metadata": {
        "id": "aEPCQLh_W5oZ"
      },
      "source": [
        "# Prepara os dados\n",
        "rating_maps = google[google['Category']==\"MAPS_AND_NAVIGATION\"]['Rating']\n",
        "rating_life = google[google['Category']==\"LIFESTYLE\"]['Rating']\n",
        "\n",
        "# Figura\n",
        "fig = go.Figure()\n",
        "\n",
        "# Adiciona o primeiro box plot\n",
        "fig.add_trace(go.Box(y = rating_maps,\n",
        "                     boxmean = 'sd', \n",
        "                     marker_color = \"darkorchid\",\n",
        "                     name = \"Avaliação de Apps de Mapas\"))\n",
        "\n",
        "# Adiciona o segundo box plot\n",
        "fig.add_trace(go.Box(y = rating_life,\n",
        "                     boxmean = 'sd', \n",
        "                     marker_color = \"blue\",\n",
        "                     name = \"Avaliação de Apps Sobre Lifestyle\"))\n",
        "\n",
        "# Layout\n",
        "fig.update_layout(title = \"Distribuição de Avaliações de Apps da Google Playstore\")\n",
        "\n",
        "# Gráfico\n",
        "fig.show()"
      ],
      "execution_count": null,
      "outputs": []
    },
    {
      "cell_type": "markdown",
      "metadata": {
        "id": "R1sj4T2SW5oa"
      },
      "source": [
        "### Scatter Plot\n",
        "**Objetivo**: Relação entre valores numéricos.\n",
        "\n",
        "Quanta dependência existe entre Tamanho do Lote e Preço da Casa?"
      ]
    },
    {
      "cell_type": "code",
      "metadata": {
        "id": "YcPTjaiSW5ob"
      },
      "source": [
        "# Figura\n",
        "fig = px.scatter(house, x = 'LotArea', y = 'SalePrice')\n",
        "\n",
        "# Layout\n",
        "fig.update_layout(title = 'Tamanho do Lote x Preço', xaxis_title = \"Tamanho do Lote\", yaxis_title = \"Preço\")\n",
        "\n",
        "# Gráfico\n",
        "fig.show()"
      ],
      "execution_count": null,
      "outputs": []
    },
    {
      "cell_type": "markdown",
      "metadata": {
        "id": "t1bKJSh0W5ob"
      },
      "source": [
        "### Scatter Plot Categorizado\n",
        "**Objetivo**: Relação entre valores numéricos com um campo categórico.\n",
        "\n",
        "Quanta dependência existe entre Tamanho do Lote e Preço com o Shape da Casa?"
      ]
    },
    {
      "cell_type": "code",
      "metadata": {
        "id": "oiiM6q2bW5oc"
      },
      "source": [
        "# Figura\n",
        "fig = px.scatter(house, x = 'LotArea', y = 'SalePrice', color = 'LotShape') \n",
        "\n",
        "# Layout\n",
        "fig.update_layout(title = 'Tamanho do Lote x Preço x Shape', xaxis_title = \"Tamanho do Lote\", yaxis_title = \"Preço\")\n",
        "\n",
        "# Gráfico\n",
        "fig.show()"
      ],
      "execution_count": null,
      "outputs": []
    },
    {
      "cell_type": "markdown",
      "metadata": {
        "id": "dtBV_2_kW5od"
      },
      "source": [
        "### Scatter Plot Customizado\n",
        "**Objetivo**:  Relação entre valores numéricos com adição de categorização por um campo e aumento do tamanho do ponto de dados por outro campo numérico.\n",
        "\n",
        "Quanta dependência existe entre a qualidade da educação e a pontuação dos alunos em diferentes países com base no número de alunos?"
      ]
    },
    {
      "cell_type": "code",
      "metadata": {
        "id": "bGUIyVKMW5oe"
      },
      "source": [
        "# Figura\n",
        "fig = px.scatter(world, x = \"quality_of_education\", y = \"score\", color = \"country\", size = \"citations\")\n",
        "\n",
        "# Layout\n",
        "fig.update_layout(title = 'Qualidade da Educação x Pontuação x Número de Alunos',\n",
        "                  xaxis_title = \"Qualidade da Educação\",\n",
        "                  yaxis_title = \"Pontuação\", \n",
        "                  template = 'seaborn')\n",
        "\n",
        "# Gráfico\n",
        "fig.show()"
      ],
      "execution_count": null,
      "outputs": []
    },
    {
      "cell_type": "markdown",
      "metadata": {
        "id": "ysxXHwzuW5of"
      },
      "source": [
        "# Fim"
      ]
    }
  ]
}
